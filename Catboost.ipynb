{
 "cells": [
  {
   "cell_type": "code",
   "execution_count": 16,
   "id": "5c214cde",
   "metadata": {},
   "outputs": [
    {
     "name": "stdout",
     "output_type": "stream",
     "text": [
      "Defaulting to user installation because normal site-packages is not writeable\n",
      "Requirement already satisfied: bayesian_optimization in /home/guido/.local/lib/python3.6/site-packages (1.2.0)\n",
      "Requirement already satisfied: numpy>=1.9.0 in /home/guido/.local/lib/python3.6/site-packages (from bayesian_optimization) (1.19.5)\n",
      "Requirement already satisfied: scikit-learn>=0.18.0 in /home/guido/.local/lib/python3.6/site-packages (from bayesian_optimization) (0.24.2)\n",
      "Requirement already satisfied: scipy>=0.14.0 in /home/guido/.local/lib/python3.6/site-packages (from bayesian_optimization) (1.5.4)\n",
      "Requirement already satisfied: joblib>=0.11 in /home/guido/.local/lib/python3.6/site-packages (from scikit-learn>=0.18.0->bayesian_optimization) (1.0.1)\n",
      "Requirement already satisfied: threadpoolctl>=2.0.0 in /home/guido/.local/lib/python3.6/site-packages (from scikit-learn>=0.18.0->bayesian_optimization) (2.1.0)\n"
     ]
    }
   ],
   "source": [
    "! pip3 install bayesian_optimization\n",
    "from bayes_opt import BayesianOptimization\n",
    "from bayes_opt import SequentialDomainReductionTransformer\n",
    "from bayes_opt.logger import JSONLogger\n",
    "from bayes_opt.event import Events\n",
    "from bayes_opt.util import load_logs\n",
    "import pandas as pd \n",
    "import catboost as cb \n",
    "from sklearn.model_selection import train_test_split\n",
    "from sklearn.model_selection import cross_val_score"
   ]
  },
  {
   "cell_type": "code",
   "execution_count": 17,
   "id": "9471e640",
   "metadata": {},
   "outputs": [],
   "source": [
    "train_values = pd.read_csv(\"train_values.csv\", index_col='building_id')\n",
    "train_values1 = pd.read_csv('Archivos auxiliares KNN/train_values_short1.csv', index_col='building_id')"
   ]
  },
  {
   "cell_type": "code",
   "execution_count": 18,
   "id": "2753d5bc",
   "metadata": {},
   "outputs": [],
   "source": [
    "train_labels = pd.read_csv('train_labels.csv', index_col='building_id')"
   ]
  },
  {
   "cell_type": "code",
   "execution_count": 280,
   "id": "d780fae4",
   "metadata": {},
   "outputs": [],
   "source": [
    "importances_superestructures = [0.11087213, 0.24814224, 0.06244005, 0.03015171, 0.08679662,\n",
    "       0.1561809 , 0.0585955 , 0.04264239, 0.07171384, 0.11541968,\n",
    "       0.01704496]\n",
    "\n",
    "superestructures = ['has_superstructure_adobe_mud', 'has_superstructure_mud_mortar_stone',\n",
    "       'has_superstructure_stone_flag',\n",
    "       'has_superstructure_cement_mortar_stone',\n",
    "       'has_superstructure_mud_mortar_brick',\n",
    "       'has_superstructure_cement_mortar_brick', 'has_superstructure_timber',\n",
    "       'has_superstructure_bamboo', 'has_superstructure_rc_non_engineered',\n",
    "       'has_superstructure_rc_engineered', 'has_superstructure_other']\n",
    "\n",
    "reemplazos = {}\n",
    "for i in range(len(superestructures)):\n",
    "    reemplazos[superestructures[i]] = {1:importances_superestructures[i]}    "
   ]
  },
  {
   "cell_type": "code",
   "execution_count": 281,
   "id": "e3142d90",
   "metadata": {},
   "outputs": [],
   "source": [
    "train_values.replace(reemplazos, inplace=True)"
   ]
  },
  {
   "cell_type": "code",
   "execution_count": 282,
   "id": "a5d751b7",
   "metadata": {},
   "outputs": [],
   "source": [
    "train_values['hasnt_secondary'] = (train_values['has_secondary_use'] != True) * 1"
   ]
  },
  {
   "cell_type": "code",
   "execution_count": 283,
   "id": "13dabf95",
   "metadata": {},
   "outputs": [],
   "source": [
    "importances_secondary_uses = [0.19752775, 0.27044932, 0.21866441, 0.02404361, 0.00476977,\n",
    "       0.00504387, 0.00198575, 0.00234236, 0.00102254, 0.02242508,\n",
    "       0.25172554]\n",
    "secondary_uses =  ['has_secondary_use_agriculture', 'has_secondary_use_hotel',\n",
    "       'has_secondary_use_rental', 'has_secondary_use_institution',\n",
    "       'has_secondary_use_school', 'has_secondary_use_industry',\n",
    "       'has_secondary_use_health_post', 'has_secondary_use_gov_office',\n",
    "       'has_secondary_use_use_police', 'has_secondary_use_other', 'hasnt_secondary']\n",
    "\n",
    "reemplazos = {}\n",
    "for i in range(len(secondary_uses)):\n",
    "    reemplazos[secondary_uses[i]] = {1:importances_secondary_uses[i]}    "
   ]
  },
  {
   "cell_type": "code",
   "execution_count": 284,
   "id": "119be038",
   "metadata": {},
   "outputs": [],
   "source": [
    "train_values.replace(reemplazos, inplace=True)"
   ]
  },
  {
   "cell_type": "code",
   "execution_count": 285,
   "id": "407f373c",
   "metadata": {},
   "outputs": [],
   "source": [
    "train_values ['superestructure'] = train_values\\\n",
    "                .loc[:, superestructures].idxmax(axis='columns')\n",
    "train_values.drop(columns=superestructures, inplace=True)\n",
    "\n",
    "\n",
    "train_values ['secondary_use'] = train_values\\\n",
    "                .loc[:, secondary_uses].idxmax(axis='columns')\n",
    "train_values.drop(columns=secondary_uses, inplace=True)"
   ]
  },
  {
   "cell_type": "code",
   "execution_count": 286,
   "id": "eaf8446c",
   "metadata": {},
   "outputs": [],
   "source": [
    "train_values.drop(columns=[\"has_secondary_use\"], inplace=True)\n",
    "train_values.drop(columns=[ \"geo_level_1_id\",\"geo_level_2_id\",\"geo_level_3_id\"], inplace=True)"
   ]
  },
  {
   "cell_type": "code",
   "execution_count": 287,
   "id": "fb37d317",
   "metadata": {},
   "outputs": [],
   "source": [
    "train_values = train_values.merge(train_values1[[\"min_geo_id\", \"max_geo_id\"]],right_index=True, left_index=True)"
   ]
  },
  {
   "cell_type": "code",
   "execution_count": 294,
   "id": "911da2c9",
   "metadata": {},
   "outputs": [],
   "source": [
    "train_values.to_csv('train_values_catboost.csv', index=True)"
   ]
  },
  {
   "cell_type": "code",
   "execution_count": 288,
   "id": "bc9d3197",
   "metadata": {},
   "outputs": [
    {
     "name": "stdout",
     "output_type": "stream",
     "text": [
      "2    156623\n",
      "3     55617\n",
      "1     40441\n",
      "4      5424\n",
      "5      2246\n",
      "6       209\n",
      "7        39\n",
      "9         1\n",
      "8         1\n",
      "Name: count_floors_pre_eq, dtype: int64\n",
      "10     38896\n",
      "15     36010\n",
      "5      33697\n",
      "20     32182\n",
      "0      26041\n",
      "25     24366\n",
      "30     18028\n",
      "35     10710\n",
      "40     10559\n",
      "50      7257\n",
      "45      4711\n",
      "60      3612\n",
      "80      3055\n",
      "55      2033\n",
      "70      1975\n",
      "995     1390\n",
      "100     1364\n",
      "65      1123\n",
      "90      1085\n",
      "85       847\n",
      "75       512\n",
      "95       414\n",
      "120      180\n",
      "150      142\n",
      "200      106\n",
      "110      100\n",
      "105       89\n",
      "125       37\n",
      "115       21\n",
      "140        9\n",
      "130        9\n",
      "180        7\n",
      "160        6\n",
      "170        6\n",
      "175        5\n",
      "135        5\n",
      "145        3\n",
      "190        3\n",
      "195        2\n",
      "165        2\n",
      "155        1\n",
      "185        1\n",
      "Name: age, dtype: int64\n",
      "6      42013\n",
      "7      36752\n",
      "5      32724\n",
      "8      28445\n",
      "9      22199\n",
      "       ...  \n",
      "82         1\n",
      "80         1\n",
      "78         1\n",
      "75         1\n",
      "100        1\n",
      "Name: area_percentage, Length: 84, dtype: int64\n",
      "5     78513\n",
      "6     46477\n",
      "4     37763\n",
      "7     35465\n",
      "3     25957\n",
      "8     13902\n",
      "2      9305\n",
      "9      5376\n",
      "10     4492\n",
      "11      917\n",
      "12      907\n",
      "13      759\n",
      "15      292\n",
      "16      179\n",
      "32       75\n",
      "18       71\n",
      "14       66\n",
      "20       33\n",
      "21       13\n",
      "23       11\n",
      "17        9\n",
      "19        7\n",
      "24        4\n",
      "25        3\n",
      "26        2\n",
      "28        2\n",
      "31        1\n",
      "Name: height_percentage, dtype: int64\n",
      "t    216757\n",
      "n     35528\n",
      "o      8316\n",
      "Name: land_surface_condition, dtype: int64\n",
      "r    219196\n",
      "w     15118\n",
      "u     14260\n",
      "i     10579\n",
      "h      1448\n",
      "Name: foundation_type, dtype: int64\n",
      "n    182842\n",
      "q     61576\n",
      "x     16183\n",
      "Name: roof_type, dtype: int64\n",
      "f    209619\n",
      "x     24877\n",
      "v     24593\n",
      "z      1004\n",
      "m       508\n",
      "Name: ground_floor_type, dtype: int64\n",
      "q    165282\n",
      "x     43448\n",
      "j     39843\n",
      "s     12028\n",
      "Name: other_floor_type, dtype: int64\n",
      "s    202090\n",
      "t     42896\n",
      "j     13282\n",
      "o      2333\n",
      "Name: position, dtype: int64\n",
      "d    250072\n",
      "q      5692\n",
      "u      3649\n",
      "s       346\n",
      "c       325\n",
      "a       252\n",
      "o       159\n",
      "m        46\n",
      "n        38\n",
      "f        22\n",
      "Name: plan_configuration, dtype: int64\n",
      "v    250939\n",
      "a      5512\n",
      "w      2677\n",
      "r      1473\n",
      "Name: legal_ownership_status, dtype: int64\n",
      "1    226115\n",
      "0     20862\n",
      "2     11294\n",
      "3      1802\n",
      "4       389\n",
      "5       104\n",
      "6        22\n",
      "7         7\n",
      "9         4\n",
      "8         2\n",
      "Name: count_families, dtype: int64\n",
      "has_superstructure_mud_mortar_stone       198561\n",
      "has_superstructure_cement_mortar_brick     18453\n",
      "has_superstructure_adobe_mud               14290\n",
      "has_superstructure_timber                   9368\n",
      "has_superstructure_mud_mortar_brick         7581\n",
      "has_superstructure_rc_non_engineered        4665\n",
      "has_superstructure_rc_engineered            2755\n",
      "has_superstructure_stone_flag               2560\n",
      "has_superstructure_bamboo                   1056\n",
      "has_superstructure_cement_mortar_stone       970\n",
      "has_superstructure_other                     342\n",
      "Name: superestructure, dtype: int64\n",
      "hasnt_secondary                  231445\n",
      "has_secondary_use_agriculture     16777\n",
      "has_secondary_use_hotel            8763\n",
      "has_secondary_use_rental           2111\n",
      "has_secondary_use_other             783\n",
      "has_secondary_use_industry          275\n",
      "has_secondary_use_institution       245\n",
      "has_secondary_use_school             93\n",
      "has_secondary_use_health_post        49\n",
      "has_secondary_use_gov_office         37\n",
      "has_secondary_use_use_police         23\n",
      "Name: secondary_use, dtype: int64\n",
      " 0.565782    873\n",
      "-4.353102    820\n",
      " 1.444711    740\n",
      " 0.429667    651\n",
      " 0.315541    647\n",
      "            ... \n",
      " 0.089422      5\n",
      " 0.178844      5\n",
      "-0.256079      4\n",
      "-1.182446      4\n",
      "-1.256079      4\n",
      "Name: min_geo_id, Length: 3730, dtype: int64\n",
      "3.434218    873\n",
      "8.353102    820\n",
      "2.555289    740\n",
      "2.445909    651\n",
      "2.339791    647\n",
      "           ... \n",
      "4.621156      5\n",
      "2.310578      5\n",
      "4.256079      4\n",
      "5.182446      4\n",
      "5.256079      4\n",
      "Name: max_geo_id, Length: 3681, dtype: int64\n"
     ]
    }
   ],
   "source": [
    "for col in train_values.columns:\n",
    "    print(train_values[col].value_counts())"
   ]
  },
  {
   "cell_type": "code",
   "execution_count": 11,
   "id": "81e3fc48",
   "metadata": {},
   "outputs": [],
   "source": [
    "# A excepcion de los geo_levels todas las columnas tienen pocos valores por lo que \n",
    "# se usar todas como categoricas\n",
    "categoricas = []\n",
    "for col in train_values.columns:\n",
    "    if ((col != 'min_geo_id') & (col != 'max_geo_id')):\n",
    "        categoricas.append(col)\n",
    "        categoricas.append(train_values.columns.get_loc(col))\n",
    "        train_values[col] = train_values[col].astype(\"category\")"
   ]
  },
  {
   "cell_type": "code",
   "execution_count": 290,
   "id": "2114ef45",
   "metadata": {},
   "outputs": [
    {
     "name": "stdout",
     "output_type": "stream",
     "text": [
      "<class 'pandas.core.frame.DataFrame'>\n",
      "Int64Index: 260601 entries, 802906 to 747594\n",
      "Data columns (total 17 columns):\n",
      " #   Column                  Non-Null Count   Dtype   \n",
      "---  ------                  --------------   -----   \n",
      " 0   count_floors_pre_eq     260601 non-null  category\n",
      " 1   age                     260601 non-null  category\n",
      " 2   area_percentage         260601 non-null  category\n",
      " 3   height_percentage       260601 non-null  category\n",
      " 4   land_surface_condition  260601 non-null  category\n",
      " 5   foundation_type         260601 non-null  category\n",
      " 6   roof_type               260601 non-null  category\n",
      " 7   ground_floor_type       260601 non-null  category\n",
      " 8   other_floor_type        260601 non-null  category\n",
      " 9   position                260601 non-null  category\n",
      " 10  plan_configuration      260601 non-null  category\n",
      " 11  legal_ownership_status  260601 non-null  category\n",
      " 12  count_families          260601 non-null  category\n",
      " 13  superestructure         260601 non-null  category\n",
      " 14  secondary_use           260601 non-null  category\n",
      " 15  min_geo_id              260601 non-null  float64 \n",
      " 16  max_geo_id              260601 non-null  float64 \n",
      "dtypes: category(15), float64(2)\n",
      "memory usage: 19.7 MB\n"
     ]
    }
   ],
   "source": [
    "train_values.info()"
   ]
  },
  {
   "cell_type": "code",
   "execution_count": 13,
   "id": "f7dfb906",
   "metadata": {},
   "outputs": [],
   "source": [
    "X_train, X_test, y_train, y_test = train_test_split(train_values, train_labels, test_size=0.2, random_state=10) "
   ]
  },
  {
   "cell_type": "code",
   "execution_count": 14,
   "id": "bf8cd596",
   "metadata": {},
   "outputs": [],
   "source": [
    "model = cb.CatBoostClassifier(loss_function='MultiClass', eval_metric='TotalF1', iterations=100) "
   ]
  },
  {
   "cell_type": "code",
   "execution_count": 15,
   "id": "70b8939a",
   "metadata": {},
   "outputs": [
    {
     "name": "stdout",
     "output_type": "stream",
     "text": [
      "Learning rate set to 0.5\n",
      "0:\tlearn: 0.7009538\ttotal: 531ms\tremaining: 52.5s\n",
      "1:\tlearn: 0.7218660\ttotal: 982ms\tremaining: 48.1s\n",
      "2:\tlearn: 0.7279061\ttotal: 1.4s\tremaining: 45.1s\n",
      "3:\tlearn: 0.7334521\ttotal: 1.79s\tremaining: 43.1s\n",
      "4:\tlearn: 0.7357449\ttotal: 2.22s\tremaining: 42.2s\n",
      "5:\tlearn: 0.7389619\ttotal: 2.64s\tremaining: 41.4s\n",
      "6:\tlearn: 0.7396439\ttotal: 3.05s\tremaining: 40.6s\n",
      "7:\tlearn: 0.7412938\ttotal: 3.49s\tremaining: 40.1s\n",
      "8:\tlearn: 0.7424586\ttotal: 3.9s\tremaining: 39.4s\n",
      "9:\tlearn: 0.7428130\ttotal: 4.31s\tremaining: 38.8s\n",
      "10:\tlearn: 0.7440533\ttotal: 4.71s\tremaining: 38.1s\n",
      "11:\tlearn: 0.7443327\ttotal: 5.13s\tremaining: 37.6s\n",
      "12:\tlearn: 0.7453833\ttotal: 5.54s\tremaining: 37.1s\n",
      "13:\tlearn: 0.7457692\ttotal: 5.96s\tremaining: 36.6s\n",
      "14:\tlearn: 0.7456499\ttotal: 6.47s\tremaining: 36.7s\n",
      "15:\tlearn: 0.7462045\ttotal: 6.96s\tremaining: 36.5s\n",
      "16:\tlearn: 0.7464531\ttotal: 7.38s\tremaining: 36s\n",
      "17:\tlearn: 0.7469428\ttotal: 7.86s\tremaining: 35.8s\n",
      "18:\tlearn: 0.7476034\ttotal: 8.33s\tremaining: 35.5s\n",
      "19:\tlearn: 0.7479908\ttotal: 8.78s\tremaining: 35.1s\n",
      "20:\tlearn: 0.7483184\ttotal: 9.31s\tremaining: 35s\n",
      "21:\tlearn: 0.7484579\ttotal: 9.89s\tremaining: 35.1s\n",
      "22:\tlearn: 0.7487479\ttotal: 10.3s\tremaining: 34.6s\n",
      "23:\tlearn: 0.7489682\ttotal: 10.9s\tremaining: 34.4s\n",
      "24:\tlearn: 0.7491371\ttotal: 11.3s\tremaining: 33.9s\n",
      "25:\tlearn: 0.7492728\ttotal: 11.7s\tremaining: 33.4s\n",
      "26:\tlearn: 0.7496133\ttotal: 12.1s\tremaining: 32.8s\n",
      "27:\tlearn: 0.7496465\ttotal: 12.6s\tremaining: 32.4s\n",
      "28:\tlearn: 0.7499174\ttotal: 13s\tremaining: 31.9s\n",
      "29:\tlearn: 0.7497125\ttotal: 13.4s\tremaining: 31.3s\n",
      "30:\tlearn: 0.7497411\ttotal: 13.9s\tremaining: 30.9s\n",
      "31:\tlearn: 0.7499811\ttotal: 14.4s\tremaining: 30.7s\n",
      "32:\tlearn: 0.7502528\ttotal: 14.8s\tremaining: 30.1s\n",
      "33:\tlearn: 0.7505653\ttotal: 15.3s\tremaining: 29.6s\n",
      "34:\tlearn: 0.7511845\ttotal: 15.7s\tremaining: 29.2s\n",
      "35:\tlearn: 0.7512904\ttotal: 16.2s\tremaining: 28.7s\n",
      "36:\tlearn: 0.7513235\ttotal: 16.6s\tremaining: 28.2s\n",
      "37:\tlearn: 0.7516065\ttotal: 17s\tremaining: 27.7s\n",
      "38:\tlearn: 0.7515605\ttotal: 17.4s\tremaining: 27.2s\n",
      "39:\tlearn: 0.7519293\ttotal: 17.8s\tremaining: 26.7s\n",
      "40:\tlearn: 0.7519324\ttotal: 18.3s\tremaining: 26.3s\n",
      "41:\tlearn: 0.7520480\ttotal: 18.7s\tremaining: 25.8s\n",
      "42:\tlearn: 0.7520848\ttotal: 19.1s\tremaining: 25.4s\n",
      "43:\tlearn: 0.7521803\ttotal: 19.6s\tremaining: 25s\n",
      "44:\tlearn: 0.7521991\ttotal: 20.1s\tremaining: 24.5s\n",
      "45:\tlearn: 0.7522443\ttotal: 20.5s\tremaining: 24.1s\n",
      "46:\tlearn: 0.7523319\ttotal: 21s\tremaining: 23.6s\n",
      "47:\tlearn: 0.7523094\ttotal: 21.5s\tremaining: 23.3s\n",
      "48:\tlearn: 0.7523375\ttotal: 21.9s\tremaining: 22.8s\n",
      "49:\tlearn: 0.7525914\ttotal: 22.4s\tremaining: 22.4s\n",
      "50:\tlearn: 0.7526363\ttotal: 23s\tremaining: 22.1s\n",
      "51:\tlearn: 0.7526797\ttotal: 23.5s\tremaining: 21.7s\n",
      "52:\tlearn: 0.7529607\ttotal: 23.9s\tremaining: 21.2s\n",
      "53:\tlearn: 0.7530354\ttotal: 24.3s\tremaining: 20.7s\n",
      "54:\tlearn: 0.7530040\ttotal: 24.7s\tremaining: 20.2s\n",
      "55:\tlearn: 0.7528299\ttotal: 25.1s\tremaining: 19.7s\n",
      "56:\tlearn: 0.7528536\ttotal: 25.7s\tremaining: 19.4s\n",
      "57:\tlearn: 0.7531323\ttotal: 26.2s\tremaining: 18.9s\n",
      "58:\tlearn: 0.7530899\ttotal: 26.6s\tremaining: 18.5s\n",
      "59:\tlearn: 0.7532410\ttotal: 27.1s\tremaining: 18.1s\n",
      "60:\tlearn: 0.7533017\ttotal: 27.6s\tremaining: 17.6s\n",
      "61:\tlearn: 0.7533099\ttotal: 28s\tremaining: 17.2s\n",
      "62:\tlearn: 0.7535849\ttotal: 28.4s\tremaining: 16.7s\n",
      "63:\tlearn: 0.7538222\ttotal: 28.8s\tremaining: 16.2s\n",
      "64:\tlearn: 0.7537632\ttotal: 29.3s\tremaining: 15.8s\n",
      "65:\tlearn: 0.7536786\ttotal: 29.7s\tremaining: 15.3s\n",
      "66:\tlearn: 0.7539877\ttotal: 30.1s\tremaining: 14.8s\n",
      "67:\tlearn: 0.7540777\ttotal: 30.6s\tremaining: 14.4s\n",
      "68:\tlearn: 0.7541145\ttotal: 31s\tremaining: 13.9s\n",
      "69:\tlearn: 0.7541658\ttotal: 31.4s\tremaining: 13.5s\n",
      "70:\tlearn: 0.7541559\ttotal: 31.9s\tremaining: 13s\n",
      "71:\tlearn: 0.7543275\ttotal: 32.3s\tremaining: 12.6s\n",
      "72:\tlearn: 0.7542395\ttotal: 32.7s\tremaining: 12.1s\n",
      "73:\tlearn: 0.7545338\ttotal: 33.1s\tremaining: 11.6s\n",
      "74:\tlearn: 0.7547442\ttotal: 33.6s\tremaining: 11.2s\n",
      "75:\tlearn: 0.7547821\ttotal: 34.1s\tremaining: 10.8s\n",
      "76:\tlearn: 0.7548075\ttotal: 34.5s\tremaining: 10.3s\n",
      "77:\tlearn: 0.7548077\ttotal: 35.1s\tremaining: 9.9s\n",
      "78:\tlearn: 0.7549447\ttotal: 35.5s\tremaining: 9.44s\n",
      "79:\tlearn: 0.7548933\ttotal: 35.9s\tremaining: 8.98s\n",
      "80:\tlearn: 0.7550277\ttotal: 36.4s\tremaining: 8.53s\n",
      "81:\tlearn: 0.7551436\ttotal: 36.8s\tremaining: 8.07s\n",
      "82:\tlearn: 0.7552547\ttotal: 37.2s\tremaining: 7.62s\n",
      "83:\tlearn: 0.7552550\ttotal: 37.6s\tremaining: 7.17s\n",
      "84:\tlearn: 0.7555456\ttotal: 38s\tremaining: 6.71s\n",
      "85:\tlearn: 0.7556443\ttotal: 38.5s\tremaining: 6.26s\n",
      "86:\tlearn: 0.7555889\ttotal: 38.9s\tremaining: 5.81s\n",
      "87:\tlearn: 0.7555998\ttotal: 39.4s\tremaining: 5.37s\n",
      "88:\tlearn: 0.7556739\ttotal: 39.8s\tremaining: 4.92s\n",
      "89:\tlearn: 0.7559581\ttotal: 40.2s\tremaining: 4.46s\n",
      "90:\tlearn: 0.7559625\ttotal: 40.7s\tremaining: 4.03s\n",
      "91:\tlearn: 0.7558993\ttotal: 41.1s\tremaining: 3.58s\n",
      "92:\tlearn: 0.7559166\ttotal: 41.6s\tremaining: 3.13s\n",
      "93:\tlearn: 0.7558416\ttotal: 42s\tremaining: 2.68s\n",
      "94:\tlearn: 0.7559460\ttotal: 42.5s\tremaining: 2.23s\n",
      "95:\tlearn: 0.7559600\ttotal: 43s\tremaining: 1.79s\n",
      "96:\tlearn: 0.7559883\ttotal: 43.4s\tremaining: 1.34s\n",
      "97:\tlearn: 0.7560302\ttotal: 43.8s\tremaining: 894ms\n",
      "98:\tlearn: 0.7560355\ttotal: 44.3s\tremaining: 447ms\n",
      "99:\tlearn: 0.7560530\ttotal: 44.7s\tremaining: 0us\n"
     ]
    },
    {
     "data": {
      "text/plain": [
       "<catboost.core.CatBoostClassifier at 0x7fd6d9334630>"
      ]
     },
     "execution_count": 15,
     "metadata": {},
     "output_type": "execute_result"
    }
   ],
   "source": [
    "model.fit(X_train, y_train, categoricas)"
   ]
  },
  {
   "cell_type": "code",
   "execution_count": 296,
   "id": "a5ad5a6d",
   "metadata": {},
   "outputs": [
    {
     "data": {
      "text/plain": [
       "0.7564321482703709"
      ]
     },
     "execution_count": 296,
     "metadata": {},
     "output_type": "execute_result"
    }
   ],
   "source": [
    "pred = model.predict(X_test) \n",
    "from sklearn.metrics import f1_score\n",
    "f1_score(pred, y_test, average='micro')"
   ]
  },
  {
   "cell_type": "markdown",
   "id": "221f6db8",
   "metadata": {},
   "source": [
    "# Tunning"
   ]
  },
  {
   "cell_type": "code",
   "execution_count": 19,
   "id": "d18d988b",
   "metadata": {},
   "outputs": [],
   "source": [
    "train_values = pd.read_csv('train_values_catboost.csv', index_col='building_id')"
   ]
  },
  {
   "cell_type": "code",
   "execution_count": 26,
   "id": "7d776ac8",
   "metadata": {},
   "outputs": [],
   "source": [
    "# Pruebo otra funcion de perdida\n",
    "model = cb.CatBoostClassifier(loss_function='MultiClassOneVsAll', eval_metric='TotalF1', iterations=100) "
   ]
  },
  {
   "cell_type": "code",
   "execution_count": 4,
   "id": "5f14b16e",
   "metadata": {},
   "outputs": [],
   "source": [
    "# A excepcion de los geo_levels todas las columnas tienen pocos valores por lo que \n",
    "# se usar todas como categoricas\n",
    "categoricas = []\n",
    "for col in train_values.columns:\n",
    "    if ((col != 'min_geo_id') & (col != 'max_geo_id')):\n",
    "        categoricas.append(col)\n",
    "        categoricas.append(train_values.columns.get_loc(col))\n",
    "        train_values[col] = train_values[col].astype(\"category\")"
   ]
  },
  {
   "cell_type": "code",
   "execution_count": 27,
   "id": "0010502c",
   "metadata": {},
   "outputs": [],
   "source": [
    "X_train, X_test, y_train, y_test = train_test_split(train_values, train_labels, test_size=0.2, random_state=10) "
   ]
  },
  {
   "cell_type": "code",
   "execution_count": 28,
   "id": "1a3ecdd5",
   "metadata": {},
   "outputs": [
    {
     "name": "stdout",
     "output_type": "stream",
     "text": [
      "0:\tlearn: 0.7034333\ttotal: 452ms\tremaining: 44.7s\n",
      "1:\tlearn: 0.7155420\ttotal: 916ms\tremaining: 44.9s\n",
      "2:\tlearn: 0.7220559\ttotal: 1.33s\tremaining: 42.9s\n",
      "3:\tlearn: 0.7221535\ttotal: 1.73s\tremaining: 41.5s\n",
      "4:\tlearn: 0.7222003\ttotal: 2.14s\tremaining: 40.6s\n",
      "5:\tlearn: 0.7223115\ttotal: 2.6s\tremaining: 40.8s\n",
      "6:\tlearn: 0.7246373\ttotal: 3.02s\tremaining: 40.1s\n",
      "7:\tlearn: 0.7222333\ttotal: 3.49s\tremaining: 40.1s\n",
      "8:\tlearn: 0.7249711\ttotal: 4.05s\tremaining: 40.9s\n",
      "9:\tlearn: 0.7246856\ttotal: 4.64s\tremaining: 41.8s\n",
      "10:\tlearn: 0.7266033\ttotal: 5.14s\tremaining: 41.6s\n",
      "11:\tlearn: 0.7262348\ttotal: 5.55s\tremaining: 40.7s\n",
      "12:\tlearn: 0.7263313\ttotal: 5.96s\tremaining: 39.9s\n",
      "13:\tlearn: 0.7267787\ttotal: 6.49s\tremaining: 39.9s\n",
      "14:\tlearn: 0.7266296\ttotal: 7.06s\tremaining: 40s\n",
      "15:\tlearn: 0.7267857\ttotal: 7.57s\tremaining: 39.7s\n",
      "16:\tlearn: 0.7277278\ttotal: 7.97s\tremaining: 38.9s\n",
      "17:\tlearn: 0.7281003\ttotal: 8.38s\tremaining: 38.2s\n",
      "18:\tlearn: 0.7276539\ttotal: 8.79s\tremaining: 37.5s\n",
      "19:\tlearn: 0.7280934\ttotal: 9.2s\tremaining: 36.8s\n",
      "20:\tlearn: 0.7277154\ttotal: 9.6s\tremaining: 36.1s\n",
      "21:\tlearn: 0.7281521\ttotal: 9.96s\tremaining: 35.3s\n",
      "22:\tlearn: 0.7278945\ttotal: 10.4s\tremaining: 34.7s\n",
      "23:\tlearn: 0.7279080\ttotal: 10.8s\tremaining: 34.1s\n",
      "24:\tlearn: 0.7277435\ttotal: 11.2s\tremaining: 33.6s\n",
      "25:\tlearn: 0.7281520\ttotal: 11.6s\tremaining: 33s\n",
      "26:\tlearn: 0.7280422\ttotal: 12s\tremaining: 32.5s\n",
      "27:\tlearn: 0.7282325\ttotal: 12.4s\tremaining: 31.9s\n",
      "28:\tlearn: 0.7281036\ttotal: 12.8s\tremaining: 31.4s\n",
      "29:\tlearn: 0.7279873\ttotal: 13.2s\tremaining: 30.9s\n",
      "30:\tlearn: 0.7278609\ttotal: 13.6s\tremaining: 30.4s\n",
      "31:\tlearn: 0.7278609\ttotal: 14.1s\tremaining: 29.9s\n",
      "32:\tlearn: 0.7276231\ttotal: 14.5s\tremaining: 29.4s\n",
      "33:\tlearn: 0.7277861\ttotal: 14.9s\tremaining: 28.9s\n",
      "34:\tlearn: 0.7278023\ttotal: 15.3s\tremaining: 28.4s\n",
      "35:\tlearn: 0.7288067\ttotal: 15.7s\tremaining: 27.9s\n",
      "36:\tlearn: 0.7284636\ttotal: 16.1s\tremaining: 27.4s\n",
      "37:\tlearn: 0.7283809\ttotal: 16.5s\tremaining: 27s\n",
      "38:\tlearn: 0.7291491\ttotal: 16.9s\tremaining: 26.5s\n",
      "39:\tlearn: 0.7291320\ttotal: 17.3s\tremaining: 26s\n",
      "40:\tlearn: 0.7291994\ttotal: 17.7s\tremaining: 25.5s\n",
      "41:\tlearn: 0.7294861\ttotal: 18.1s\tremaining: 25.1s\n",
      "42:\tlearn: 0.7295531\ttotal: 18.6s\tremaining: 24.6s\n",
      "43:\tlearn: 0.7297999\ttotal: 19s\tremaining: 24.2s\n",
      "44:\tlearn: 0.7298667\ttotal: 19.5s\tremaining: 23.8s\n",
      "45:\tlearn: 0.7302804\ttotal: 19.9s\tremaining: 23.3s\n",
      "46:\tlearn: 0.7299893\ttotal: 20.4s\tremaining: 23s\n",
      "47:\tlearn: 0.7301903\ttotal: 20.9s\tremaining: 22.7s\n",
      "48:\tlearn: 0.7302105\ttotal: 21.4s\tremaining: 22.2s\n",
      "49:\tlearn: 0.7300240\ttotal: 21.9s\tremaining: 21.9s\n",
      "50:\tlearn: 0.7301764\ttotal: 22.4s\tremaining: 21.5s\n",
      "51:\tlearn: 0.7302760\ttotal: 22.8s\tremaining: 21.1s\n",
      "52:\tlearn: 0.7309063\ttotal: 23.3s\tremaining: 20.6s\n",
      "53:\tlearn: 0.7316319\ttotal: 23.7s\tremaining: 20.2s\n",
      "54:\tlearn: 0.7317677\ttotal: 24.1s\tremaining: 19.7s\n",
      "55:\tlearn: 0.7321433\ttotal: 24.5s\tremaining: 19.3s\n",
      "56:\tlearn: 0.7325617\ttotal: 25s\tremaining: 18.8s\n",
      "57:\tlearn: 0.7327375\ttotal: 25.5s\tremaining: 18.5s\n",
      "58:\tlearn: 0.7328712\ttotal: 25.9s\tremaining: 18s\n",
      "59:\tlearn: 0.7330302\ttotal: 26.3s\tremaining: 17.6s\n",
      "60:\tlearn: 0.7331324\ttotal: 26.8s\tremaining: 17.1s\n",
      "61:\tlearn: 0.7332077\ttotal: 27.2s\tremaining: 16.7s\n",
      "62:\tlearn: 0.7335360\ttotal: 27.6s\tremaining: 16.2s\n",
      "63:\tlearn: 0.7337830\ttotal: 28s\tremaining: 15.8s\n",
      "64:\tlearn: 0.7341776\ttotal: 28.5s\tremaining: 15.3s\n",
      "65:\tlearn: 0.7339754\ttotal: 28.9s\tremaining: 14.9s\n",
      "66:\tlearn: 0.7343946\ttotal: 29.3s\tremaining: 14.5s\n",
      "67:\tlearn: 0.7344607\ttotal: 29.8s\tremaining: 14s\n",
      "68:\tlearn: 0.7345524\ttotal: 30.2s\tremaining: 13.6s\n",
      "69:\tlearn: 0.7346855\ttotal: 30.6s\tremaining: 13.1s\n",
      "70:\tlearn: 0.7348022\ttotal: 31.1s\tremaining: 12.7s\n",
      "71:\tlearn: 0.7348567\ttotal: 31.6s\tremaining: 12.3s\n",
      "72:\tlearn: 0.7349301\ttotal: 32.1s\tremaining: 11.9s\n",
      "73:\tlearn: 0.7350161\ttotal: 32.6s\tremaining: 11.4s\n",
      "74:\tlearn: 0.7351202\ttotal: 33s\tremaining: 11s\n",
      "75:\tlearn: 0.7351753\ttotal: 33.4s\tremaining: 10.6s\n",
      "76:\tlearn: 0.7352969\ttotal: 33.9s\tremaining: 10.1s\n",
      "77:\tlearn: 0.7355414\ttotal: 34.3s\tremaining: 9.68s\n",
      "78:\tlearn: 0.7354889\ttotal: 34.8s\tremaining: 9.24s\n",
      "79:\tlearn: 0.7355712\ttotal: 35.2s\tremaining: 8.79s\n",
      "80:\tlearn: 0.7358955\ttotal: 35.6s\tremaining: 8.35s\n",
      "81:\tlearn: 0.7359227\ttotal: 36s\tremaining: 7.9s\n",
      "82:\tlearn: 0.7360704\ttotal: 36.4s\tremaining: 7.46s\n",
      "83:\tlearn: 0.7364125\ttotal: 36.9s\tremaining: 7.02s\n",
      "84:\tlearn: 0.7367767\ttotal: 37.3s\tremaining: 6.58s\n",
      "85:\tlearn: 0.7370240\ttotal: 37.7s\tremaining: 6.14s\n",
      "86:\tlearn: 0.7373697\ttotal: 38.2s\tremaining: 5.7s\n",
      "87:\tlearn: 0.7375901\ttotal: 38.6s\tremaining: 5.27s\n",
      "88:\tlearn: 0.7377727\ttotal: 39.1s\tremaining: 4.83s\n",
      "89:\tlearn: 0.7379065\ttotal: 39.5s\tremaining: 4.39s\n",
      "90:\tlearn: 0.7378673\ttotal: 39.9s\tremaining: 3.95s\n",
      "91:\tlearn: 0.7380540\ttotal: 40.4s\tremaining: 3.51s\n",
      "92:\tlearn: 0.7380715\ttotal: 40.8s\tremaining: 3.07s\n",
      "93:\tlearn: 0.7383336\ttotal: 41.2s\tremaining: 2.63s\n",
      "94:\tlearn: 0.7384487\ttotal: 41.7s\tremaining: 2.2s\n",
      "95:\tlearn: 0.7387709\ttotal: 42.2s\tremaining: 1.76s\n",
      "96:\tlearn: 0.7388678\ttotal: 42.6s\tremaining: 1.32s\n",
      "97:\tlearn: 0.7393006\ttotal: 43s\tremaining: 878ms\n",
      "98:\tlearn: 0.7392706\ttotal: 43.6s\tremaining: 441ms\n",
      "99:\tlearn: 0.7392321\ttotal: 44.1s\tremaining: 0us\n"
     ]
    },
    {
     "data": {
      "text/plain": [
       "<catboost.core.CatBoostClassifier at 0x7fd6d93572b0>"
      ]
     },
     "execution_count": 28,
     "metadata": {},
     "output_type": "execute_result"
    }
   ],
   "source": [
    "model.fit(X_train, y_train, categoricas)"
   ]
  },
  {
   "cell_type": "code",
   "execution_count": 29,
   "id": "c2b17366",
   "metadata": {},
   "outputs": [
    {
     "data": {
      "text/plain": [
       "0.7460332687400472"
      ]
     },
     "execution_count": 29,
     "metadata": {},
     "output_type": "execute_result"
    }
   ],
   "source": [
    "pred = model.predict(X_test) \n",
    "from sklearn.metrics import f1_score\n",
    "f1_score(pred, y_test, average='micro')"
   ]
  },
  {
   "cell_type": "markdown",
   "id": "3b8abac1",
   "metadata": {},
   "source": [
    "Los resultados son peores asi que se usara la de antes"
   ]
  },
  {
   "cell_type": "code",
   "execution_count": 14,
   "id": "2792db91",
   "metadata": {},
   "outputs": [],
   "source": [
    "def funcion_a_optimizar(iterations):\n",
    "    pool = cb.Pool(data=train_values,\n",
    "                  label=train_labels,\n",
    "                  cat_features=categoricas)\n",
    "    params = {\"loss_function\":'MultiClass', \"eval_metric\":'TotalF1', \"iterations\":round(iterations),\n",
    "                                  \"od_pval\":0.01, \"od_type\":\"IncToDec\", 'silent':True, \"random_seed\":2021,\n",
    "             \"task_type\":'GPU'}\n",
    "    return float(cb.cv(pool, params, fold_count=10).tail(1)['test-TotalF1-mean'])    "
   ]
  },
  {
   "cell_type": "code",
   "execution_count": 9,
   "id": "fcae67bf",
   "metadata": {},
   "outputs": [
    {
     "name": "stderr",
     "output_type": "stream",
     "text": [
      "Custom logger is already specified. Specify more than one logger at same time is not thread safe."
     ]
    },
    {
     "data": {
      "text/plain": [
       "0.7511100971795747"
      ]
     },
     "execution_count": 9,
     "metadata": {},
     "output_type": "execute_result"
    }
   ],
   "source": [
    "funcion_a_optimizar(600)"
   ]
  },
  {
   "cell_type": "code",
   "execution_count": 10,
   "id": "2d9693cd",
   "metadata": {},
   "outputs": [
    {
     "data": {
      "text/plain": [
       "0.7513669173122761"
      ]
     },
     "execution_count": 10,
     "metadata": {},
     "output_type": "execute_result"
    }
   ],
   "source": [
    "funcion_a_optimizar(700)"
   ]
  },
  {
   "cell_type": "code",
   "execution_count": 11,
   "id": "b812ddc2",
   "metadata": {},
   "outputs": [
    {
     "data": {
      "text/plain": [
       "0.7515741042568524"
      ]
     },
     "execution_count": 11,
     "metadata": {},
     "output_type": "execute_result"
    }
   ],
   "source": [
    "funcion_a_optimizar(800)"
   ]
  },
  {
   "cell_type": "code",
   "execution_count": 15,
   "id": "07654653",
   "metadata": {},
   "outputs": [
    {
     "name": "stderr",
     "output_type": "stream",
     "text": [
      "Custom logger is already specified. Specify more than one logger at same time is not thread safe."
     ]
    },
    {
     "ename": "CatBoostError",
     "evalue": "catboost/cuda/cuda_lib/cuda_base.h:281: CUDA error 35: CUDA driver version is insufficient for CUDA runtime version",
     "output_type": "error",
     "traceback": [
      "\u001b[0;31m---------------------------------------------------------------------------\u001b[0m",
      "\u001b[0;31mCatBoostError\u001b[0m                             Traceback (most recent call last)",
      "\u001b[0;32m<ipython-input-15-a2ba2b719a86>\u001b[0m in \u001b[0;36m<module>\u001b[0;34m\u001b[0m\n\u001b[0;32m----> 1\u001b[0;31m \u001b[0mfuncion_a_optimizar\u001b[0m\u001b[0;34m(\u001b[0m\u001b[0;36m1000\u001b[0m\u001b[0;34m)\u001b[0m\u001b[0;34m\u001b[0m\u001b[0;34m\u001b[0m\u001b[0m\n\u001b[0m",
      "\u001b[0;32m<ipython-input-14-10ae9f63b209>\u001b[0m in \u001b[0;36mfuncion_a_optimizar\u001b[0;34m(iterations)\u001b[0m\n\u001b[1;32m      6\u001b[0m                                   \u001b[0;34m\"od_pval\"\u001b[0m\u001b[0;34m:\u001b[0m\u001b[0;36m0.01\u001b[0m\u001b[0;34m,\u001b[0m \u001b[0;34m\"od_type\"\u001b[0m\u001b[0;34m:\u001b[0m\u001b[0;34m\"IncToDec\"\u001b[0m\u001b[0;34m,\u001b[0m \u001b[0;34m'silent'\u001b[0m\u001b[0;34m:\u001b[0m\u001b[0;32mTrue\u001b[0m\u001b[0;34m,\u001b[0m \u001b[0;34m\"random_seed\"\u001b[0m\u001b[0;34m:\u001b[0m\u001b[0;36m2021\u001b[0m\u001b[0;34m,\u001b[0m\u001b[0;34m\u001b[0m\u001b[0;34m\u001b[0m\u001b[0m\n\u001b[1;32m      7\u001b[0m              \"task_type\":'GPU'}\n\u001b[0;32m----> 8\u001b[0;31m     \u001b[0;32mreturn\u001b[0m \u001b[0mfloat\u001b[0m\u001b[0;34m(\u001b[0m\u001b[0mcb\u001b[0m\u001b[0;34m.\u001b[0m\u001b[0mcv\u001b[0m\u001b[0;34m(\u001b[0m\u001b[0mpool\u001b[0m\u001b[0;34m,\u001b[0m \u001b[0mparams\u001b[0m\u001b[0;34m,\u001b[0m \u001b[0mfold_count\u001b[0m\u001b[0;34m=\u001b[0m\u001b[0;36m10\u001b[0m\u001b[0;34m)\u001b[0m\u001b[0;34m.\u001b[0m\u001b[0mtail\u001b[0m\u001b[0;34m(\u001b[0m\u001b[0;36m1\u001b[0m\u001b[0;34m)\u001b[0m\u001b[0;34m[\u001b[0m\u001b[0;34m'test-TotalF1-mean'\u001b[0m\u001b[0;34m]\u001b[0m\u001b[0;34m)\u001b[0m\u001b[0;34m\u001b[0m\u001b[0;34m\u001b[0m\u001b[0m\n\u001b[0m",
      "\u001b[0;32m~/.local/lib/python3.6/site-packages/catboost/core.py\u001b[0m in \u001b[0;36mcv\u001b[0;34m(pool, params, dtrain, iterations, num_boost_round, fold_count, nfold, inverted, partition_random_seed, seed, shuffle, logging_level, stratified, as_pandas, metric_period, verbose, verbose_eval, plot, early_stopping_rounds, save_snapshot, snapshot_file, snapshot_interval, metric_update_interval, folds, type, return_models, log_cout, log_cerr)\u001b[0m\n\u001b[1;32m   6137\u001b[0m         \u001b[0;32mif\u001b[0m \u001b[0;32mnot\u001b[0m \u001b[0mreturn_models\u001b[0m\u001b[0;34m:\u001b[0m\u001b[0;34m\u001b[0m\u001b[0;34m\u001b[0m\u001b[0m\n\u001b[1;32m   6138\u001b[0m             return _cv(params, pool, fold_count, inverted, partition_random_seed, shuffle, stratified,\n\u001b[0;32m-> 6139\u001b[0;31m                     metric_update_interval, as_pandas, folds, type, return_models)\n\u001b[0m\u001b[1;32m   6140\u001b[0m         \u001b[0;32melse\u001b[0m\u001b[0;34m:\u001b[0m\u001b[0;34m\u001b[0m\u001b[0;34m\u001b[0m\u001b[0m\n\u001b[1;32m   6141\u001b[0m             results, cv_models = _cv(params, pool, fold_count, inverted, partition_random_seed, shuffle, stratified,\n",
      "\u001b[0;32m_catboost.pyx\u001b[0m in \u001b[0;36m_catboost._cv\u001b[0;34m()\u001b[0m\n",
      "\u001b[0;32m_catboost.pyx\u001b[0m in \u001b[0;36m_catboost._cv\u001b[0;34m()\u001b[0m\n",
      "\u001b[0;31mCatBoostError\u001b[0m: catboost/cuda/cuda_lib/cuda_base.h:281: CUDA error 35: CUDA driver version is insufficient for CUDA runtime version"
     ]
    }
   ],
   "source": [
    "funcion_a_optimizar(1000)"
   ]
  },
  {
   "cell_type": "code",
   "execution_count": null,
   "id": "16402e16",
   "metadata": {},
   "outputs": [],
   "source": [
    "funcion_a_optimizar(1000)"
   ]
  },
  {
   "cell_type": "code",
   "execution_count": null,
   "id": "3cc07eea",
   "metadata": {},
   "outputs": [],
   "source": [
    "funcion_a_optimizar(750)"
   ]
  },
  {
   "cell_type": "code",
   "execution_count": null,
   "id": "12484f46",
   "metadata": {},
   "outputs": [],
   "source": [
    "funcion_a_optimizar(850)"
   ]
  },
  {
   "cell_type": "code",
   "execution_count": null,
   "id": "91169ed0",
   "metadata": {},
   "outputs": [],
   "source": [
    "funcion_a_optimizar(650)"
   ]
  },
  {
   "cell_type": "code",
   "execution_count": null,
   "id": "9bbd45a2",
   "metadata": {},
   "outputs": [],
   "source": [
    "limites = {iterations:(300,500)}"
   ]
  },
  {
   "cell_type": "code",
   "execution_count": null,
   "id": "bc6766f4",
   "metadata": {},
   "outputs": [],
   "source": [
    "optimizer = BayesianOptimization(\n",
    "    f=funcion_a_optimizar,\n",
    "    random_state=1300,\n",
    "    verbose=5,\n",
    "    pbounds=limites,\n",
    "    bounds_transformer=SequentialDomainReductionTransformer(),\n",
    ")\n",
    "\n",
    "#load_logs(optimizer, \"./anteriores.json\")\n",
    "logger = JSONLogger(path=\"./iterations.json\")\n",
    "optimizer.subscribe(Events.OPTIMIZATION_STEP, logger)"
   ]
  },
  {
   "cell_type": "code",
   "execution_count": null,
   "id": "076f00e2",
   "metadata": {},
   "outputs": [],
   "source": [
    "optimizer.probe({\"iterations\":500}, lazy=True)"
   ]
  },
  {
   "cell_type": "code",
   "execution_count": null,
   "id": "fc2ba553",
   "metadata": {},
   "outputs": [],
   "source": [
    "optimizer.probe({\"iterations\":300}, lazy=True)"
   ]
  },
  {
   "cell_type": "code",
   "execution_count": null,
   "id": "27182858",
   "metadata": {},
   "outputs": [],
   "source": [
    "optimizer.maximize(\n",
    "    init_points=5,\n",
    "    n_iter=40,\n",
    ")"
   ]
  },
  {
   "cell_type": "code",
   "execution_count": 25,
   "id": "23961362",
   "metadata": {},
   "outputs": [
    {
     "name": "stderr",
     "output_type": "stream",
     "text": [
      "Custom logger is already specified. Specify more than one logger at same time is not thread safe."
     ]
    },
    {
     "ename": "KeyboardInterrupt",
     "evalue": "",
     "output_type": "error",
     "traceback": [
      "\u001b[0;31m---------------------------------------------------------------------------\u001b[0m",
      "\u001b[0;31mKeyboardInterrupt\u001b[0m                         Traceback (most recent call last)",
      "\u001b[0;32m<ipython-input-25-c51039c8d3ef>\u001b[0m in \u001b[0;36m<module>\u001b[0;34m\u001b[0m\n\u001b[1;32m      4\u001b[0m params = {\"loss_function\":'MultiClass', \"eval_metric\":'TotalF1', \"iterations\":2000,\n\u001b[1;32m      5\u001b[0m                               \"od_pval\":0.01, \"od_type\":\"IncToDec\", 'silent':True, \"random_seed\":2021}\n\u001b[0;32m----> 6\u001b[0;31m \u001b[0mresultados\u001b[0m \u001b[0;34m=\u001b[0m \u001b[0mcb\u001b[0m\u001b[0;34m.\u001b[0m\u001b[0mcv\u001b[0m\u001b[0;34m(\u001b[0m\u001b[0mpool\u001b[0m\u001b[0;34m,\u001b[0m \u001b[0mparams\u001b[0m\u001b[0;34m,\u001b[0m \u001b[0mfold_count\u001b[0m\u001b[0;34m=\u001b[0m\u001b[0;36m10\u001b[0m\u001b[0;34m)\u001b[0m\u001b[0;34m\u001b[0m\u001b[0;34m\u001b[0m\u001b[0m\n\u001b[0m",
      "\u001b[0;32m~/.local/lib/python3.6/site-packages/catboost/core.py\u001b[0m in \u001b[0;36mcv\u001b[0;34m(pool, params, dtrain, iterations, num_boost_round, fold_count, nfold, inverted, partition_random_seed, seed, shuffle, logging_level, stratified, as_pandas, metric_period, verbose, verbose_eval, plot, early_stopping_rounds, save_snapshot, snapshot_file, snapshot_interval, metric_update_interval, folds, type, return_models, log_cout, log_cerr)\u001b[0m\n\u001b[1;32m   6137\u001b[0m         \u001b[0;32mif\u001b[0m \u001b[0;32mnot\u001b[0m \u001b[0mreturn_models\u001b[0m\u001b[0;34m:\u001b[0m\u001b[0;34m\u001b[0m\u001b[0;34m\u001b[0m\u001b[0m\n\u001b[1;32m   6138\u001b[0m             return _cv(params, pool, fold_count, inverted, partition_random_seed, shuffle, stratified,\n\u001b[0;32m-> 6139\u001b[0;31m                     metric_update_interval, as_pandas, folds, type, return_models)\n\u001b[0m\u001b[1;32m   6140\u001b[0m         \u001b[0;32melse\u001b[0m\u001b[0;34m:\u001b[0m\u001b[0;34m\u001b[0m\u001b[0;34m\u001b[0m\u001b[0m\n\u001b[1;32m   6141\u001b[0m             results, cv_models = _cv(params, pool, fold_count, inverted, partition_random_seed, shuffle, stratified,\n",
      "\u001b[0;32m_catboost.pyx\u001b[0m in \u001b[0;36m_catboost._cv\u001b[0;34m()\u001b[0m\n",
      "\u001b[0;32m_catboost.pyx\u001b[0m in \u001b[0;36m_catboost._cv\u001b[0;34m()\u001b[0m\n",
      "\u001b[0;31mKeyboardInterrupt\u001b[0m: "
     ]
    }
   ],
   "source": [
    "    pool = cb.Pool(data=train_values,\n",
    "                  label=train_labels,\n",
    "                  cat_features=categoricas)\n",
    "    params = {\"loss_function\":'MultiClass', \"eval_metric\":'TotalF1', \"iterations\":2000,\n",
    "                                  \"od_pval\":0.01, \"od_type\":\"IncToDec\", 'silent':True, \"random_seed\":2021}\n",
    "    resultados = cb.cv(pool, params, fold_count=10)"
   ]
  }
 ],
 "metadata": {
  "kernelspec": {
   "display_name": "Python 3",
   "language": "python",
   "name": "python3"
  },
  "language_info": {
   "codemirror_mode": {
    "name": "ipython",
    "version": 3
   },
   "file_extension": ".py",
   "mimetype": "text/x-python",
   "name": "python",
   "nbconvert_exporter": "python",
   "pygments_lexer": "ipython3",
   "version": "3.6.9"
  },
  "toc": {
   "base_numbering": 1,
   "nav_menu": {},
   "number_sections": false,
   "sideBar": true,
   "skip_h1_title": false,
   "title_cell": "Table of Contents",
   "title_sidebar": "Contents",
   "toc_cell": false,
   "toc_position": {},
   "toc_section_display": true,
   "toc_window_display": false
  }
 },
 "nbformat": 4,
 "nbformat_minor": 5
}
