{
 "cells": [
  {
   "cell_type": "code",
   "execution_count": null,
   "id": "208698df",
   "metadata": {},
   "outputs": [],
   "source": [
    "! pip3 install bayesian_optimization\n",
    "! pip3 install cython"
   ]
  },
  {
   "cell_type": "code",
   "execution_count": null,
   "id": "44cf6e3e",
   "metadata": {},
   "outputs": [],
   "source": [
    "! sudo apt-get update\n",
    "! sudo apt-get -y install build-essential"
   ]
  },
  {
   "cell_type": "code",
   "execution_count": 1,
   "id": "00f38074",
   "metadata": {},
   "outputs": [],
   "source": [
    "from sklearn.neighbors import KNeighborsClassifier\n",
    "from sklearn.metrics import f1_score\n",
    "from sklearn.model_selection import train_test_split\n",
    "from bayes_opt import BayesianOptimization\n",
    "from bayes_opt import SequentialDomainReductionTransformer\n",
    "from bayes_opt.logger import JSONLogger\n",
    "from bayes_opt.event import Events\n",
    "from bayes_opt.util import load_logs\n",
    "import cython\n",
    "import time\n",
    "import matplotlib.pyplot as plt\n",
    "import numpy as np\n",
    "import pandas as pd\n",
    "%load_ext Cython"
   ]
  },
  {
   "cell_type": "code",
   "execution_count": 2,
   "id": "e64048e9",
   "metadata": {},
   "outputs": [],
   "source": [
    "train_values_short = pd.read_csv('train_values_short.csv', index_col='building_id')\n",
    "train_labels = pd.read_csv('train_labels.csv', index_col='building_id')"
   ]
  },
  {
   "cell_type": "code",
   "execution_count": 3,
   "id": "8260793e",
   "metadata": {},
   "outputs": [],
   "source": [
    "%%cython\n",
    "def hassanat1(double[:] x, double[:] y, double[:] factores):\n",
    "    cdef int n = x.shape[0]\n",
    "    cdef double res = 0\n",
    "    cdef double d, minimo, maximo\n",
    "\n",
    "    for i in range(n):\n",
    "        minimo = min(x[i],y[i])\n",
    "        maximo = max(x[i],y[i])\n",
    "        if (minimo >=0):\n",
    "            d =  1 - ( (1+minimo)/(1+maximo) )\n",
    "        else:\n",
    "            d =  1 - ( (1+minimo+abs(minimo))/(1+maximo+abs(minimo)) )\n",
    "        res += d * factores[i]\n",
    "    \n",
    "    return res"
   ]
  },
  {
   "cell_type": "code",
   "execution_count": null,
   "id": "00a377db",
   "metadata": {},
   "outputs": [],
   "source": [
    "def target(resultado):\n",
    "    return resultado['target']\n",
    "\n",
    "def mostrar(resultados, keys, min=0):\n",
    "    \n",
    "    print( \"i\", end = '\\t\\t') \n",
    "    print(\"target\", end = '\\t\\t') \n",
    "    for key in keys:\n",
    "        print(  key, end = '\\t') \n",
    "    print()\n",
    "    \n",
    "    a_borrar = []\n",
    "    for resultado in resultados:\n",
    "        if(resultado['target']<min):\n",
    "            a_borrar.append(resultado)\n",
    "    resultados_importantes = [a for a in resultados if a not in a_borrar]\n",
    "    \n",
    "    resultados_importantes.sort(reverse=True, key=target)\n",
    "    \n",
    "    for i, res in enumerate(resultados_importantes):\n",
    "        cells = []\n",
    "\n",
    "        cells.append(i)\n",
    "        cells.append(res[\"target\"])\n",
    "\n",
    "        for key in keys:\n",
    "            cells.append(res[\"params\"][key])\n",
    "        \n",
    "        for j in cells:\n",
    "            print(\"| \" + str(j), end = '\\t') \n",
    "            \n",
    "        print()"
   ]
  },
  {
   "cell_type": "code",
   "execution_count": 4,
   "id": "ccb806e1",
   "metadata": {},
   "outputs": [],
   "source": [
    "x_train, x_test, y_train, y_test = train_test_split(train_values_short,\n",
    "                                train_labels, test_size=0.001, random_state=1)"
   ]
  },
  {
   "cell_type": "code",
   "execution_count": 9,
   "id": "11cc981d",
   "metadata": {},
   "outputs": [],
   "source": [
    "def funcion_a_optimizar5(factor_age, factor_altura, factor_plan):\n",
    "    factor_count_floors = 1.9195786742228238\n",
    "    factor_area = 0.3139710742344524\n",
    "    factor_foundation_type = 2.199668387926665\n",
    "    factor_legal_ownership_status = 0.12558762490941516\n",
    "    factor_secondary_use = 0.7726106929827516\n",
    "    factor_geo_id = 7.508261370013642\n",
    "    factor_superestructuras = 14.483312165426854\n",
    "    \n",
    "    k = 22\n",
    "    factores = np.array([factor_count_floors, factor_age, factor_area, factor_altura, factor_foundation_type,\n",
    "                         1, 1, 1, 1, factor_plan, factor_legal_ownership_status, factor_secondary_use,\n",
    "                         factor_geo_id,  factor_geo_id, 534565675686786]).astype('double')\n",
    "    knn = KNeighborsClassifier(weights=\"distance\",n_neighbors=k,\n",
    "                  metric=hassanat1, metric_params={'factores':factores})\n",
    "    knn.fit(x_train, y_train.values.ravel())\n",
    "    prediction = knn.predict(x_test)\n",
    "    return f1_score(y_test, prediction, average='micro')"
   ]
  },
  {
   "cell_type": "code",
   "execution_count": 13,
   "id": "1e86369a",
   "metadata": {},
   "outputs": [
    {
     "data": {
      "text/plain": [
       "0.7049808429118773"
      ]
     },
     "execution_count": 13,
     "metadata": {},
     "output_type": "execute_result"
    }
   ],
   "source": [
    "funcion_a_optimizar5(1,1,1)"
   ]
  },
  {
   "cell_type": "code",
   "execution_count": null,
   "id": "2a809fc6",
   "metadata": {},
   "outputs": [],
   "source": [
    "funcion_a_optimizar5(1,1,1)"
   ]
  },
  {
   "cell_type": "code",
   "execution_count": 7,
   "id": "4f2f4bae",
   "metadata": {},
   "outputs": [],
   "source": [
    "def funcion_a_optimizar6(factor_age, factor_altura, factor_plan):\n",
    "    factor_count_floors = 1.9195786742228238\n",
    "    factor_area = 0.3139710742344524\n",
    "    factor_foundation_type = 2.199668387926665\n",
    "    factor_legal_ownership_status = 0.12558762490941516\n",
    "    factor_secondary_use = 0.7726106929827516\n",
    "    factor_geo_id = 7.508261370013642\n",
    "    factor_superestructuras = 14.483312165426854\n",
    "    \n",
    "    k = 22\n",
    "    factores = np.array([factor_count_floors, factor_age, factor_area, factor_altura, factor_foundation_type,\n",
    "                        1, 1, 1, factor_plan, factor_legal_ownership_status, factor_secondary_use,\n",
    "                         factor_geo_id,  factor_geo_id, 45456575675675675]).astype('double')\n",
    "    knn = KNeighborsClassifier(weights=\"distance\",n_neighbors=k,\n",
    "                  metric=hassanat1, metric_params={'factores':factores})\n",
    "    knn.fit(x_train, y_train.values.ravel())\n",
    "    prediction = knn.predict(x_test)\n",
    "    return f1_score(y_test, prediction, average='micro')"
   ]
  },
  {
   "cell_type": "code",
   "execution_count": 8,
   "id": "3612e7fe",
   "metadata": {},
   "outputs": [
    {
     "data": {
      "text/plain": [
       "0.7049808429118773"
      ]
     },
     "execution_count": 8,
     "metadata": {},
     "output_type": "execute_result"
    }
   ],
   "source": [
    "funcion_a_optimizar6(1,1,1)"
   ]
  },
  {
   "cell_type": "code",
   "execution_count": 6,
   "id": "ff590d5a",
   "metadata": {},
   "outputs": [
    {
     "data": {
      "text/plain": [
       "0.7126436781609196"
      ]
     },
     "execution_count": 6,
     "metadata": {},
     "output_type": "execute_result"
    }
   ],
   "source": [
    "funcion_a_optimizar6(1,1,1)"
   ]
  },
  {
   "cell_type": "code",
   "execution_count": 4,
   "id": "c14b5c11",
   "metadata": {},
   "outputs": [
    {
     "data": {
      "text/plain": [
       "Index(['count_floors_pre_eq', 'age', 'area_percentage', 'height_percentage',\n",
       "       'foundation_type', 'roof_type', 'ground_floor_type', 'other_floor_type',\n",
       "       'plan_configuration', 'legal_ownership_status', 'secondary_use',\n",
       "       'min_geo_id', 'max_geo_id', 'superestructure'],\n",
       "      dtype='object')"
      ]
     },
     "execution_count": 4,
     "metadata": {},
     "output_type": "execute_result"
    }
   ],
   "source": [
    "train_values_short.columns"
   ]
  },
  {
   "cell_type": "code",
   "execution_count": null,
   "id": "2895204f",
   "metadata": {},
   "outputs": [],
   "source": [
    "limites = {\"factor_age\":(0,1), \"factor_altura\":(0.5,3), \"factor_plan\":(1,3.5)}\n",
    "\n",
    "optimizer = BayesianOptimization(\n",
    "    f=funcion_a_optimizar5,\n",
    "    pbounds=limites,\n",
    "    random_state=,\n",
    "    bounds_transformer=SequentialDomainReductionTransformer(),\n",
    "    verbose=5,\n",
    ")\n",
    "logger = JSONLogger(path=\"./logs_nuevos.json\")\n",
    "optimizer.subscribe(Events.OPTIMIZATION_STEP, logger)"
   ]
  },
  {
   "cell_type": "code",
   "execution_count": null,
   "id": "2ce32aa1",
   "metadata": {},
   "outputs": [],
   "source": [
    "optimizer.maximize(\n",
    "    init_points=0,\n",
    "    n_iter=1,\n",
    ")"
   ]
  },
  {
   "cell_type": "code",
   "execution_count": null,
   "id": "781a9c2d",
   "metadata": {},
   "outputs": [],
   "source": [
    "optimizer.probe(\n",
    "    params={\"factor_count_floors\":1.9195786742228238, \"factor_age\":1, \"factor_foundation_type\":2.199668387926665},\n",
    "    lazy=False,\n",
    ")"
   ]
  },
  {
   "cell_type": "code",
   "execution_count": null,
   "id": "1977f3c5",
   "metadata": {},
   "outputs": [],
   "source": [
    "mostrar(optimizer.res, [\"factor_age\", \"factor_altura\", \"factor_plan\"])"
   ]
  }
 ],
 "metadata": {
  "kernelspec": {
   "display_name": "Python 3",
   "language": "python",
   "name": "python3"
  },
  "language_info": {
   "codemirror_mode": {
    "name": "ipython",
    "version": 3
   },
   "file_extension": ".py",
   "mimetype": "text/x-python",
   "name": "python",
   "nbconvert_exporter": "python",
   "pygments_lexer": "ipython3",
   "version": "3.6.9"
  },
  "toc": {
   "base_numbering": 1,
   "nav_menu": {},
   "number_sections": false,
   "sideBar": true,
   "skip_h1_title": false,
   "title_cell": "Table of Contents",
   "title_sidebar": "Contents",
   "toc_cell": false,
   "toc_position": {},
   "toc_section_display": true,
   "toc_window_display": false
  }
 },
 "nbformat": 4,
 "nbformat_minor": 5
}
