{
 "cells": [
  {
   "cell_type": "code",
   "execution_count": null,
   "id": "208698df",
   "metadata": {},
   "outputs": [],
   "source": [
    "! pip3 install bayesian_optimization\n",
    "! pip3 install cython\n",
    "! sudo apt-get update\n",
    "! sudo apt-get -y install build-essential\n",
    "from sklearn.neighbors import KNeighborsClassifier\n",
    "from sklearn.metrics import f1_score\n",
    "from sklearn.model_selection import train_test_split\n",
    "from bayes_opt import BayesianOptimization\n",
    "from bayes_opt import SequentialDomainReductionTransformer\n",
    "from bayes_opt.logger import JSONLogger\n",
    "from bayes_opt.event import Events\n",
    "from bayes_opt.util import load_logs\n",
    "import cython\n",
    "import time\n",
    "import matplotlib.pyplot as plt\n",
    "import numpy as np\n",
    "import pandas as pd\n",
    "%load_ext Cython"
   ]
  },
  {
   "cell_type": "code",
   "execution_count": 38,
   "id": "1d507508",
   "metadata": {},
   "outputs": [],
   "source": [
    "random_state = 54949393"
   ]
  },
  {
   "cell_type": "code",
   "execution_count": 22,
   "id": "e64048e9",
   "metadata": {},
   "outputs": [],
   "source": [
    "train_values_short = pd.read_csv('train_values_short1.csv', index_col='building_id')\n",
    "train_labels = pd.read_csv('train_labels.csv', index_col='building_id')\n",
    "proba_grado_correcto = pd.read_csv('proba_grado_correcto.csv', index_col='building_id')"
   ]
  },
  {
   "cell_type": "code",
   "execution_count": 23,
   "id": "8260793e",
   "metadata": {},
   "outputs": [],
   "source": [
    "%%cython\n",
    "def hassanat1(double[:] x, double[:] y, double[:] factores):\n",
    "    cdef int n = x.shape[0]\n",
    "    cdef double res = 0\n",
    "    cdef double d, minimo, maximo\n",
    "\n",
    "    for i in range(n):\n",
    "        minimo = min(x[i],y[i])\n",
    "        maximo = max(x[i],y[i])\n",
    "        if (minimo >=0):\n",
    "            d =  1 - ( (1+minimo)/(1+maximo) )\n",
    "        else:\n",
    "            d =  1 - ( (1+minimo+abs(minimo))/(1+maximo+abs(minimo)) )\n",
    "        res += d * factores[i]\n",
    "    \n",
    "    return res"
   ]
  },
  {
   "cell_type": "code",
   "execution_count": 24,
   "id": "00a377db",
   "metadata": {},
   "outputs": [],
   "source": [
    "def target(resultado):\n",
    "    return resultado['target']\n",
    "\n",
    "def mostrar(resultados, keys, min=0):\n",
    "    \n",
    "    print( \"i\", end = '\\t\\t') \n",
    "    print(\"target\", end = '\\t\\t') \n",
    "    for key in keys:\n",
    "        print(  key, end = '\\t') \n",
    "    print()\n",
    "    \n",
    "    a_borrar = []\n",
    "    for resultado in resultados:\n",
    "        if(resultado['target']<min):\n",
    "            a_borrar.append(resultado)\n",
    "    resultados_importantes = [a for a in resultados if a not in a_borrar]\n",
    "    \n",
    "    resultados_importantes.sort(reverse=True, key=target)\n",
    "    \n",
    "    for i, res in enumerate(resultados_importantes):\n",
    "        cells = []\n",
    "\n",
    "        cells.append(i)\n",
    "        cells.append(res[\"target\"])\n",
    "\n",
    "        for key in keys:\n",
    "            cells.append(res[\"params\"][key])\n",
    "        \n",
    "        for j in cells:\n",
    "            print(\"| \" + str(j), end = '\\t') \n",
    "            \n",
    "        print()"
   ]
  },
  {
   "cell_type": "code",
   "execution_count": 34,
   "id": "ccb806e1",
   "metadata": {},
   "outputs": [],
   "source": [
    "x_train, x_test, y_train, y_test = train_test_split(train_values_short,\n",
    "                                train_labels, test_size=0.05, random_state=random_state)"
   ]
  },
  {
   "cell_type": "code",
   "execution_count": 28,
   "id": "66904992",
   "metadata": {},
   "outputs": [],
   "source": [
    "factores = np.array([1.82264756, 0.14128378, 0.27999595, 0.4755266 , 2.30883141,\n",
    "       1.02996122, 1.07966807, 1.10292129, 0.83811159, 0.80736305,\n",
    "       0.74243681, 4.93845144, 4.93845144, 7.76639614, 0.03964061550504756, 0.09684727174529291, 0.025805063269526796])\\\n",
    "        .astype('double')"
   ]
  },
  {
   "cell_type": "code",
   "execution_count": 35,
   "id": "11cc981d",
   "metadata": {},
   "outputs": [],
   "source": [
    "def funcion_a_optimizar(max_a_borrar):\n",
    "    a_borrar = proba_grado_correcto.loc[proba_grado_correcto['proba_grado_correcto'] < max_a_borrar, :].index\n",
    "    x_train_filtered = x_train.copy(deep=True)\n",
    "    y_train_filtered = y_train.copy(deep=True)\n",
    "    x_train_filtered.drop(index=a_borrar, inplace=True, errors='ignore'  )\n",
    "    y_train_filtered.drop(index=a_borrar, inplace=True, errors='ignore'  )\n",
    "    knn = KNeighborsClassifier(weights=\"distance\",n_neighbors=22,\n",
    "                  metric=hassanat1, metric_params={'factores':factores})\n",
    "    knn.fit(x_train_filtered, y_train_filtered.values.ravel())\n",
    "    prediction = knn.predict(x_test)\n",
    "    return f1_score(y_test, prediction, average='micro')"
   ]
  },
  {
   "cell_type": "code",
   "execution_count": 39,
   "id": "2895204f",
   "metadata": {},
   "outputs": [],
   "source": [
    "limites = {\"max_a_borrar\":(0,0.5001)}\n",
    "\n",
    "optimizer = BayesianOptimization(\n",
    "    f=funcion_a_optimizar,\n",
    "    pbounds=limites,\n",
    "    random_state=random_state,\n",
    "    bounds_transformer=SequentialDomainReductionTransformer(),\n",
    "    verbose=5,\n",
    ")\n",
    "str_random_state = \"%s\" %random_state\n",
    "#load_logs(optimizer, \"./anteriores_\" + str_random_state  + \".json\")\n",
    "logger = JSONLogger(path=\"./logs_nuevos_\" + str_random_state  + \".json\")\n",
    "optimizer.subscribe(Events.OPTIMIZATION_STEP, logger)"
   ]
  },
  {
   "cell_type": "code",
   "execution_count": 41,
   "id": "2ce32aa1",
   "metadata": {},
   "outputs": [
    {
     "name": "stdout",
     "output_type": "stream",
     "text": [
      "67240\n"
     ]
    }
   ],
   "source": [
    "optimizer.maximize(\n",
    "    init_points=2,\n",
    "    n_iter=5,\n",
    ")"
   ]
  },
  {
   "cell_type": "code",
   "execution_count": 40,
   "id": "781a9c2d",
   "metadata": {},
   "outputs": [],
   "source": [
    "optimizer.probe(\n",
    "    params={'max_a_borrar':0},\n",
    "    lazy=True,\n",
    ")"
   ]
  },
  {
   "cell_type": "code",
   "execution_count": null,
   "id": "24171702",
   "metadata": {},
   "outputs": [],
   "source": [
    "optimizer.probe(\n",
    "    params={'max_a_borrar':0.5001},\n",
    "    lazy=True,\n",
    ")"
   ]
  }
 ],
 "metadata": {
  "kernelspec": {
   "display_name": "Python 3",
   "language": "python",
   "name": "python3"
  },
  "language_info": {
   "codemirror_mode": {
    "name": "ipython",
    "version": 3
   },
   "file_extension": ".py",
   "mimetype": "text/x-python",
   "name": "python",
   "nbconvert_exporter": "python",
   "pygments_lexer": "ipython3",
   "version": "3.6.9"
  },
  "toc": {
   "base_numbering": 1,
   "nav_menu": {},
   "number_sections": false,
   "sideBar": true,
   "skip_h1_title": false,
   "title_cell": "Table of Contents",
   "title_sidebar": "Contents",
   "toc_cell": false,
   "toc_position": {},
   "toc_section_display": true,
   "toc_window_display": false
  }
 },
 "nbformat": 4,
 "nbformat_minor": 5
}
