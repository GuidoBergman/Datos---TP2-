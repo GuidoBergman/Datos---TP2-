{
 "cells": [
  {
   "cell_type": "code",
   "execution_count": null,
   "id": "208698df",
   "metadata": {},
   "outputs": [],
   "source": [
    "! pip3 install bayesian_optimization\n",
    "! pip3 install cython"
   ]
  },
  {
   "cell_type": "code",
   "execution_count": null,
   "id": "44cf6e3e",
   "metadata": {},
   "outputs": [],
   "source": [
    "! sudo apt-get update\n",
    "! sudo apt-get -y install build-essential"
   ]
  },
  {
   "cell_type": "code",
   "execution_count": 1,
   "id": "00f38074",
   "metadata": {},
   "outputs": [],
   "source": [
    "from sklearn.neighbors import KNeighborsClassifier\n",
    "from sklearn.metrics import f1_score\n",
    "from sklearn.model_selection import train_test_split\n",
    "from bayes_opt import BayesianOptimization\n",
    "from bayes_opt import SequentialDomainReductionTransformer\n",
    "from bayes_opt.logger import JSONLogger\n",
    "from bayes_opt.event import Events\n",
    "from bayes_opt.util import load_logs\n",
    "import cython\n",
    "import time\n",
    "import matplotlib.pyplot as plt\n",
    "import numpy as np\n",
    "import pandas as pd\n",
    "%load_ext Cython"
   ]
  },
  {
   "cell_type": "code",
   "execution_count": 3,
   "id": "e64048e9",
   "metadata": {},
   "outputs": [],
   "source": [
    "#train_values_short = pd.read_csv('train_values_short.csv', index_col='building_id')\n",
    "train_values_short_s = pd.read_csv('train_values_short_superestructures.csv', index_col='building_id')\n",
    "train_labels = pd.read_csv('train_labels.csv', index_col='building_id')"
   ]
  },
  {
   "cell_type": "code",
   "execution_count": 4,
   "id": "41e907d2",
   "metadata": {},
   "outputs": [],
   "source": [
    "random_state = "
   ]
  },
  {
   "cell_type": "code",
   "execution_count": 5,
   "id": "8260793e",
   "metadata": {},
   "outputs": [],
   "source": [
    "%%cython\n",
    "def hassanat1(double[:] x, double[:] y, double[:] factores):\n",
    "    cdef int n = x.shape[0]\n",
    "    cdef double res = 0\n",
    "    cdef double d, minimo, maximo\n",
    "\n",
    "    for i in range(n):\n",
    "        minimo = min(x[i],y[i])\n",
    "        maximo = max(x[i],y[i])\n",
    "        if (minimo >=0):\n",
    "            d =  1 - ( (1+minimo)/(1+maximo) )\n",
    "        else:\n",
    "            d =  1 - ( (1+minimo+abs(minimo))/(1+maximo+abs(minimo)) )\n",
    "        res += d * factores[i]\n",
    "    \n",
    "    return res"
   ]
  },
  {
   "cell_type": "code",
   "execution_count": 6,
   "id": "00a377db",
   "metadata": {},
   "outputs": [],
   "source": [
    "def target(resultado):\n",
    "    return resultado['target']\n",
    "\n",
    "def mostrar(resultados, min=0):\n",
    "    \n",
    "    a_borrar = []\n",
    "    for resultado in resultados:\n",
    "        if(resultado['target']<min):\n",
    "            a_borrar.append(resultado)\n",
    "    resultados_importantes = [a for a in resultados if a not in a_borrar]\n",
    "    \n",
    "    resultados_importantes.sort(reverse=True, key=target)\n",
    "    \n",
    "    for resultado in resultados_importantes:\n",
    "        print(\"target: \" , resultado['target'])\n",
    "        for key,value in resultado['params'].items():\n",
    "            print(\"\\t\\t\", key, ':', value)\n",
    "        print()"
   ]
  },
  {
   "cell_type": "code",
   "execution_count": 7,
   "id": "ccb806e1",
   "metadata": {},
   "outputs": [],
   "source": [
    "x_train, x_test, y_train, y_test = train_test_split(train_values_short,\n",
    "                                train_labels, test_size=0.03, random_state=random_state)"
   ]
  },
  {
   "cell_type": "code",
   "execution_count": 24,
   "id": "eff7cea1",
   "metadata": {},
   "outputs": [
    {
     "name": "stdout",
     "output_type": "stream",
     "text": [
      "0.6296296296296297\n",
      "26.696475982666016\n"
     ]
    }
   ],
   "source": [
    "k = 22\n",
    "\n",
    "start = time.time()\n",
    "factores = np.array([1.82264756, 0.14128378, 0.27999595, 0.4755266 , 2.30883141,\n",
    "       1.02996122, 1.07966807, 1.10292129, 0.83811159, 0.80736305,\n",
    "       0.74243681, 4.93845144, 4.93845144, 7.76639614])\\\n",
    "    .astype('double')\n",
    "knn = KNeighborsClassifier(weights=\"distance\",n_neighbors=k,\n",
    "                  metric=hassanat1, metric_params={'factores':factores})\n",
    "knn.fit(x_train, y_train.values.ravel())\n",
    "prediction = knn.predict(x_test)\n",
    "end = time.time()\n",
    "print(f1_score(y_test, prediction, average='micro'))\n",
    "print(end-start)"
   ]
  },
  {
   "cell_type": "code",
   "execution_count": 37,
   "id": "bd60a9ac",
   "metadata": {},
   "outputs": [],
   "source": [
    "x_train, x_test, y_train, y_test = train_test_split(train_values_short_s,\n",
    "                                train_labels, test_size=0.03, random_state=random_state)"
   ]
  },
  {
   "cell_type": "code",
   "execution_count": 38,
   "id": "11cc981d",
   "metadata": {},
   "outputs": [],
   "source": [
    "def funcion_a_optimizar(superestructures):\n",
    "    \n",
    "    k = 22\n",
    "    \n",
    "    factores = np.array([1.82264756, 0.14128378, 0.27999595, 0.4755266 , 2.30883141,\n",
    "       1.02996122, 1.07966807, 1.10292129, 0.83811159, 0.80736305,\n",
    "       0.74243681, 4.93845144, 4.93845144, superestructures,\n",
    " superestructures, superestructures, superestructures,\n",
    " superestructures, superestructures, superestructures, superestructures,\n",
    "superestructures, superestructures, superestructures])\\\n",
    "        .astype('double')\n",
    "    knn = KNeighborsClassifier(weights=\"distance\",n_neighbors=k,\n",
    "                  metric=hassanat1, metric_params={'factores':factores})\n",
    "    knn.fit(x_train, y_train.values.ravel())\n",
    "    prediction = knn.predict(x_test)\n",
    "    return f1_score(y_test, prediction, average='micro')"
   ]
  },
  {
   "cell_type": "code",
   "execution_count": 54,
   "id": "94c175ac",
   "metadata": {},
   "outputs": [],
   "source": [
    "limites = { \"superestructures\":(0.5,1.5)}"
   ]
  },
  {
   "cell_type": "code",
   "execution_count": 69,
   "id": "2895204f",
   "metadata": {},
   "outputs": [],
   "source": [
    "optimizer = BayesianOptimization(\n",
    "    f=funcion_a_optimizar,\n",
    "    random_state=random_state,\n",
    "    bounds_transformer=SequentialDomainReductionTransformer(),\n",
    "    verbose=5,\n",
    "    pbounds=limites,\n",
    ")\n",
    "\n",
    "str_random_state = \"%s\" %random_state\n",
    "load_logs(optimizer, \"./anteriores_\" + str_random_state  + \".json\")\n",
    "logger = JSONLogger(path=\"./logs_nuevos_\" + str_random_state  + \".json\")\n",
    "optimizer.subscribe(Events.OPTIMIZATION_STEP, logger)"
   ]
  },
  {
   "cell_type": "code",
   "execution_count": null,
   "id": "4e3a944a",
   "metadata": {},
   "outputs": [],
   "source": [
    "optimizer.probe({ \"superestructures\":0.7626109262828163}, lazy=True)"
   ]
  },
  {
   "cell_type": "code",
   "execution_count": null,
   "id": "9dc090ce",
   "metadata": {},
   "outputs": [],
   "source": [
    "optimizer.probe({ \"superestructures\":0.706036013}, lazy=True)"
   ]
  },
  {
   "cell_type": "code",
   "execution_count": 71,
   "id": "2ce32aa1",
   "metadata": {},
   "outputs": [],
   "source": [
    "optimizer.maximize(\n",
    "    init_points=,\n",
    "    n_iter=,\n",
    ")"
   ]
  },
  {
   "cell_type": "code",
   "execution_count": 97,
   "id": "1977f3c5",
   "metadata": {},
   "outputs": [
    {
     "name": "stdout",
     "output_type": "stream",
     "text": [
      "target:  0.7407407407407407\n",
      "\t\t age : 0.1331076390865485\n",
      "\t\t area : 0.3139710742344524\n",
      "\t\t count_floors : 1.9195786742228238\n",
      "\t\t foundation : 2.199668387926665\n",
      "\t\t geo : 7.508261370013642\n",
      "\t\t ground_floor : 1.0\n",
      "\t\t height : 0.5186702671250013\n",
      "\t\t legal_ownership : 3.3974077335766553\n",
      "\t\t other_floor : 1.0\n",
      "\t\t plan_configuration : 1.0\n",
      "\t\t roof : 1.0\n",
      "\t\t secondary_use : 0.12558762490941516\n",
      "\t\t superestructure : 7.508261370013642\n",
      "\n",
      "target:  0.7407407407407407\n",
      "\t\t age : 0.1331076390865485\n",
      "\t\t area : 0.3139710742344524\n",
      "\t\t count_floors : 1.9195786742228238\n",
      "\t\t foundation : 2.199668387926665\n",
      "\t\t geo : 7.0\n",
      "\t\t ground_floor : 1.0\n",
      "\t\t height : 0.5186702671250013\n",
      "\t\t legal_ownership : 2.0\n",
      "\t\t other_floor : 1.0\n",
      "\t\t plan_configuration : 1.0\n",
      "\t\t roof : 1.0\n",
      "\t\t secondary_use : 0.12558762490941516\n",
      "\t\t superestructure : 7.508261370013642\n",
      "\n",
      "target:  0.7037037037037037\n",
      "\t\t age : 0.1331076390865485\n",
      "\t\t area : 0.3139710742344524\n",
      "\t\t count_floors : 1.9195786742228238\n",
      "\t\t foundation : 2.199668387926665\n",
      "\t\t geo : 7.508261370013642\n",
      "\t\t ground_floor : 1.0\n",
      "\t\t height : 0.5186702671250013\n",
      "\t\t legal_ownership : 0.12558762490941516\n",
      "\t\t other_floor : 1.0\n",
      "\t\t plan_configuration : 3.3974077335766553\n",
      "\t\t roof : 1.0\n",
      "\t\t secondary_use : 0.7726106929827516\n",
      "\t\t superestructure : 14.483312165426854\n",
      "\n",
      "target:  0.7037037037037037\n",
      "\t\t age : 0.1331076390865485\n",
      "\t\t area : 0.3139710742344524\n",
      "\t\t count_floors : 1.9195786742228238\n",
      "\t\t foundation : 2.199668387926665\n",
      "\t\t geo : 7.508261370013642\n",
      "\t\t ground_floor : 1.0\n",
      "\t\t height : 0.5186702671250013\n",
      "\t\t legal_ownership : 0.12558762490941516\n",
      "\t\t other_floor : 1.0\n",
      "\t\t plan_configuration : 3.3974077335766553\n",
      "\t\t roof : 1.0\n",
      "\t\t secondary_use : 0.7726106929827516\n",
      "\t\t superestructure : 14.48331216542685\n",
      "\n"
     ]
    }
   ],
   "source": [
    "mostrar(optimizer.res)"
   ]
  }
 ],
 "metadata": {
  "kernelspec": {
   "display_name": "Python 3",
   "language": "python",
   "name": "python3"
  },
  "language_info": {
   "codemirror_mode": {
    "name": "ipython",
    "version": 3
   },
   "file_extension": ".py",
   "mimetype": "text/x-python",
   "name": "python",
   "nbconvert_exporter": "python",
   "pygments_lexer": "ipython3",
   "version": "3.6.9"
  },
  "toc": {
   "base_numbering": 1,
   "nav_menu": {},
   "number_sections": false,
   "sideBar": true,
   "skip_h1_title": false,
   "title_cell": "Table of Contents",
   "title_sidebar": "Contents",
   "toc_cell": false,
   "toc_position": {},
   "toc_section_display": true,
   "toc_window_display": false
  }
 },
 "nbformat": 4,
 "nbformat_minor": 5
}
