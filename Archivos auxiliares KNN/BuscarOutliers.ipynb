{
 "cells": [
  {
   "cell_type": "code",
   "execution_count": null,
   "id": "3397838b",
   "metadata": {},
   "outputs": [],
   "source": [
    "! conda install -y nodejs\n",
    "! pip3 install dask_labextension\n",
    "! jupyter labextension install dask-labextension\n",
    "! sudo apt-get update\n",
    "! sudo apt-get -y install build-essential\n",
    "! pip3 install bayesian_optimization\n",
    "! pip3 install cython\n",
    "import numpy as np\n",
    "from sklearn.neighbors import KNeighborsClassifier\n",
    "import cython\n",
    "import time\n",
    "import pandas as pd\n",
    "%load_ext Cython"
   ]
  },
  {
   "cell_type": "code",
   "execution_count": 55,
   "id": "86a496c4",
   "metadata": {},
   "outputs": [],
   "source": [
    "train_values_short = pd.read_csv('train_values_short1.csv', index_col='building_id')\n",
    "train_labels = pd.read_csv('train_labels.csv', index_col='building_id')"
   ]
  },
  {
   "cell_type": "code",
   "execution_count": 6,
   "id": "855c55ff",
   "metadata": {},
   "outputs": [],
   "source": [
    "%%cython\n",
    "def hassanat1(double[:] x, double[:] y, double[:] factores):\n",
    "    cdef int n = x.shape[0]\n",
    "    cdef double res = 0\n",
    "    cdef double d, minimo, maximo\n",
    "\n",
    "    for i in range(n):\n",
    "        minimo = min(x[i],y[i])\n",
    "        maximo = max(x[i],y[i])\n",
    "        if (minimo >=0):\n",
    "            d =  1 - ( (1+minimo)/(1+maximo) )\n",
    "        else:\n",
    "            d =  1 - ( (1+minimo+abs(minimo))/(1+maximo+abs(minimo)) )\n",
    "        res += d * factores[i]\n",
    "    \n",
    "    return res"
   ]
  },
  {
   "cell_type": "code",
   "execution_count": 3,
   "id": "549eabcf",
   "metadata": {},
   "outputs": [],
   "source": [
    "factores = np.array([1.82264756, 0.14128378, 0.27999595, 0.4755266 , 2.30883141,\n",
    "       1.02996122, 1.07966807, 1.10292129, 0.83811159, 0.80736305,\n",
    "       0.74243681, 4.93845144, 4.93845144, 7.76639614, 0.03964061550504756, 0.09684727174529291, 0.025805063269526796])\\\n",
    "        .astype('double')\n",
    "ids = train_values_short.index"
   ]
  },
  {
   "cell_type": "code",
   "execution_count": 110,
   "id": "7c19dd0a",
   "metadata": {},
   "outputs": [],
   "source": [
    "lista = []\n",
    "for i in range(10,20):\n",
    "    x_train =train_values_short.copy(deep=True)\n",
    "    y_train = train_labels.copy(deep=True)\n",
    "    x_train.drop(index=ids[i], inplace=True  )\n",
    "    y_train.drop(index=ids[i], inplace=True )\n",
    "    knn = KNeighborsClassifier(weights=\"distance\",n_neighbors=22,\n",
    "                  metric=hassanat1, metric_params={'factores':factores})\n",
    "    knn.fit(x_train, y_train.values.ravel())\n",
    "    lista.append( knn.predict_proba([train_values_short.loc[ids[i] ]])[0])"
   ]
  },
  {
   "cell_type": "code",
   "execution_count": 112,
   "id": "a995abc1",
   "metadata": {},
   "outputs": [],
   "source": [
    "df = pd.DataFrame(lista, index=ids[10:20], columns=['proba_grado1', 'proba_grado2', 'proba_grado3'])"
   ]
  },
  {
   "cell_type": "code",
   "execution_count": 114,
   "id": "a714b1e4",
   "metadata": {},
   "outputs": [
    {
     "data": {
      "text/html": [
       "<div>\n",
       "<style scoped>\n",
       "    .dataframe tbody tr th:only-of-type {\n",
       "        vertical-align: middle;\n",
       "    }\n",
       "\n",
       "    .dataframe tbody tr th {\n",
       "        vertical-align: top;\n",
       "    }\n",
       "\n",
       "    .dataframe thead th {\n",
       "        text-align: right;\n",
       "    }\n",
       "</style>\n",
       "<table border=\"1\" class=\"dataframe\">\n",
       "  <thead>\n",
       "    <tr style=\"text-align: right;\">\n",
       "      <th></th>\n",
       "      <th>proba_grado1</th>\n",
       "      <th>proba_grado2</th>\n",
       "      <th>proba_grado3</th>\n",
       "    </tr>\n",
       "    <tr>\n",
       "      <th>building_id</th>\n",
       "      <th></th>\n",
       "      <th></th>\n",
       "      <th></th>\n",
       "    </tr>\n",
       "  </thead>\n",
       "  <tbody>\n",
       "    <tr>\n",
       "      <th>7962</th>\n",
       "      <td>0.000000</td>\n",
       "      <td>0.067170</td>\n",
       "      <td>0.932830</td>\n",
       "    </tr>\n",
       "    <tr>\n",
       "      <th>452227</th>\n",
       "      <td>0.120694</td>\n",
       "      <td>0.637787</td>\n",
       "      <td>0.241519</td>\n",
       "    </tr>\n",
       "    <tr>\n",
       "      <th>444381</th>\n",
       "      <td>0.000000</td>\n",
       "      <td>1.000000</td>\n",
       "      <td>0.000000</td>\n",
       "    </tr>\n",
       "    <tr>\n",
       "      <th>287845</th>\n",
       "      <td>0.000000</td>\n",
       "      <td>0.000000</td>\n",
       "      <td>1.000000</td>\n",
       "    </tr>\n",
       "    <tr>\n",
       "      <th>605134</th>\n",
       "      <td>0.000000</td>\n",
       "      <td>0.766557</td>\n",
       "      <td>0.233443</td>\n",
       "    </tr>\n",
       "  </tbody>\n",
       "</table>\n",
       "</div>"
      ],
      "text/plain": [
       "             proba_grado1  proba_grado2  proba_grado3\n",
       "building_id                                          \n",
       "7962             0.000000      0.067170      0.932830\n",
       "452227           0.120694      0.637787      0.241519\n",
       "444381           0.000000      1.000000      0.000000\n",
       "287845           0.000000      0.000000      1.000000\n",
       "605134           0.000000      0.766557      0.233443"
      ]
     },
     "execution_count": 114,
     "metadata": {},
     "output_type": "execute_result"
    }
   ],
   "source": [
    "df.head()"
   ]
  },
  {
   "cell_type": "code",
   "execution_count": null,
   "id": "6b70eb2d",
   "metadata": {},
   "outputs": [],
   "source": [
    "df.to_csv(\"probas.csv\",index=True)"
   ]
  }
 ],
 "metadata": {
  "kernelspec": {
   "display_name": "Python 3",
   "language": "python",
   "name": "python3"
  },
  "language_info": {
   "codemirror_mode": {
    "name": "ipython",
    "version": 3
   },
   "file_extension": ".py",
   "mimetype": "text/x-python",
   "name": "python",
   "nbconvert_exporter": "python",
   "pygments_lexer": "ipython3",
   "version": "3.6.9"
  },
  "toc": {
   "base_numbering": 1,
   "nav_menu": {},
   "number_sections": false,
   "sideBar": true,
   "skip_h1_title": false,
   "title_cell": "Table of Contents",
   "title_sidebar": "Contents",
   "toc_cell": false,
   "toc_position": {},
   "toc_section_display": true,
   "toc_window_display": false
  }
 },
 "nbformat": 4,
 "nbformat_minor": 5
}
