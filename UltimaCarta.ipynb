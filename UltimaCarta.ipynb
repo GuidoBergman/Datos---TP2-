{
 "cells": [
  {
   "cell_type": "code",
   "execution_count": 15,
   "id": "f1b5cead",
   "metadata": {},
   "outputs": [],
   "source": [
    "import pandas as pd \n",
    "import catboost as cb \n",
    "from sklearn.model_selection import cross_val_score\n",
    "import numpy as np\n",
    "from sklearn.model_selection import GridSearchCV\n",
    "from lightgbm import LGBMClassifier\n",
    "from xgboost.sklearn import XGBClassifier\n",
    "import xgboost as xgb\n",
    "from sklearn.base import ClassifierMixin\n",
    "from sklearn.preprocessing import LabelEncoder\n",
    "from bayes_opt import BayesianOptimization\n",
    "from bayes_opt import SequentialDomainReductionTransformer\n",
    "from bayes_opt.logger import JSONLogger\n",
    "from bayes_opt.event import Events\n",
    "from bayes_opt.util import load_logs\n",
    "from sklearn.metrics import f1_score\n",
    "from sklearn.base import BaseEstimator"
   ]
  },
  {
   "cell_type": "code",
   "execution_count": 2,
   "id": "950e9637",
   "metadata": {},
   "outputs": [],
   "source": [
    "import warnings\n",
    "warnings.filterwarnings('ignore')"
   ]
  },
  {
   "cell_type": "code",
   "execution_count": 3,
   "id": "b8fff163",
   "metadata": {},
   "outputs": [],
   "source": [
    "train_values = pd.read_csv('train_values.csv', index_col='building_id')\n",
    "train_values1 = pd.read_csv('train_values_short1.csv', index_col='building_id')\n",
    "train_values_baseline = pd.get_dummies(train_values)\n",
    "train_values_short1 = train_values1.merge(train_values[[\"geo_level_1_id\", \"geo_level_2_id\", \"geo_level_3_id\"]],\n",
    "                                            left_index=True, right_index=True)\n",
    "train_values_catboost = pd.read_csv(\"train_values_catboost.csv\", index_col='building_id')\n",
    "train_values_lgbm = pd.read_csv(\"train_values_lightGBM.csv\", index_col='building_id')\n",
    "\n",
    "train_labels = pd.read_csv('train_labels.csv', index_col='building_id')\n",
    "le = LabelEncoder()\n",
    "train_labels_encoded = le.fit_transform(y=train_labels.values.ravel())"
   ]
  },
  {
   "cell_type": "code",
   "execution_count": 4,
   "id": "2a62e51b",
   "metadata": {},
   "outputs": [],
   "source": [
    "categoricas = []\n",
    "for col in train_values_catboost.columns:\n",
    "    if ((col != 'min_geo_id') & (col != 'max_geo_id')):\n",
    "        categoricas.append(col+'_cat')\n",
    "        train_values_catboost[col] = train_values_catboost[col].astype(\"category\")\n",
    "        # Las renombro porque tiene las mismas columnas que los otros pero son disntintas\n",
    "        train_values_catboost.rename(columns={col:col+'_cat'}, inplace=True)"
   ]
  },
  {
   "cell_type": "code",
   "execution_count": 5,
   "id": "c043eb68",
   "metadata": {},
   "outputs": [],
   "source": [
    "cols_baseline = train_values_baseline.columns\n",
    "cols_short1 = train_values_short1.columns\n",
    "cols_catboost = train_values_catboost.columns\n",
    "cols_lgbm = train_values_lgbm.columns"
   ]
  },
  {
   "cell_type": "code",
   "execution_count": 6,
   "id": "497bf4fb",
   "metadata": {},
   "outputs": [],
   "source": [
    "# Guardo todas las columnas en el mismo DF\n",
    "train_values_baseline.loc[:,cols_short1] = train_values_short1\n",
    "train_values_baseline.loc[:,cols_catboost] = train_values_catboost\n",
    "train_values_baseline.loc[:, cols_lgbm] = train_values_lgbm\n",
    "train_values = train_values_baseline"
   ]
  },
  {
   "cell_type": "code",
   "execution_count": 14,
   "id": "464d41dd",
   "metadata": {},
   "outputs": [
    {
     "data": {
      "text/plain": [
       "<bound method XGBModel.get_params of XGBClassifier(base_score=None, booster=None, colsample_bylevel=None,\n",
       "              colsample_bynode=None, colsample_bytree=None, gamma=None,\n",
       "              gpu_id=None, importance_type='gain', interaction_constraints=None,\n",
       "              learning_rate=None, max_delta_step=None, max_depth=10,\n",
       "              min_child_weight=None, missing=nan, monotone_constraints=None,\n",
       "              n_estimators=273, n_jobs=None, num_parallel_tree=None,\n",
       "              random_state=2021, reg_alpha=None, reg_lambda=None,\n",
       "              scale_pos_weight=None, subsample=None, tree_method=None,\n",
       "              use_label_encoder=False, validate_parameters=None, verbosity=0)>"
      ]
     },
     "execution_count": 14,
     "metadata": {},
     "output_type": "execute_result"
    }
   ],
   "source": [
    "xgb_baseline = XGBClassifier(random_state=2021, max_depth= 10, n_estimators= 273,\n",
    "                                                         verbosity=0, use_label_encoder=False)\n",
    "xgb_baseline.get_params"
   ]
  },
  {
   "cell_type": "code",
   "execution_count": 16,
   "id": "3f476a68",
   "metadata": {},
   "outputs": [],
   "source": [
    "class EncontradorPesos(ClassifierMixin, BaseEstimator):\n",
    "    def __init__(self, peso_xgb_baseline, peso_xgb_short1, peso_catboost, peso_lgbm, categoricas_catboost):\n",
    "        \n",
    "        self.peso_xgb_baseline = peso_xgb_baseline\n",
    "        self.xgb_baseline = XGBClassifier(random_state=2021, max_depth= 10, n_estimators= 273,\n",
    "                                                         verbosity=0, use_label_encoder=False)\n",
    "        \n",
    "        self.peso_xgb_short1 = peso_xgb_short1\n",
    "        self.xgb_short1=XGBClassifier( objective = \"multi:softmax\", use_label_encoder=False, seed=30,\n",
    "                         max_depth=9,\n",
    "                         min_child_weight=6,\n",
    "                         gamma=0.2554138025988315,\n",
    "                        colsample_bytree = 0.7773754946860542,\n",
    "                        subsample = 0.9030471581301206,\n",
    "                         learning_rate =0.1, \n",
    "                         n_estimators=273,\n",
    "                        verbosity=0\n",
    "                         )\n",
    "        \n",
    "        self.peso_catboost = peso_catboost\n",
    "        self.catboost = cb.CatBoostClassifier(loss_function='MultiClass', eval_metric='TotalF1:average=Micro', \n",
    "                                              iterations=100, verbose=False)\n",
    "        self.categoricas_catboost = categoricas_catboost\n",
    "        \n",
    "        self.lgbm = LGBMClassifier(random_state=2021, num_iterations= 273,\n",
    "                                   num_leaves= 70, objective= 'regression', colsample_bytree=0.77)\n",
    "        self.peso_lgbm = peso_lgbm\n",
    "    \n",
    "                 \n",
    "    def fit(self, X, y):\n",
    "        self.xgb_short1.fit(X[cols_short1], y)\n",
    "        self.xgb_baseline.fit(X[cols_baseline], y)\n",
    "        self.catboost.fit(X[cols_catboost], y, self.categoricas_catboost)\n",
    "        self.lgbm.fit(X[cols_lgbm],y)\n",
    "        \n",
    "    def predict(self, X):\n",
    "        probas_xgb_short1 =  self.xgb_short1.predict_proba(X[cols_short1]) * self.peso_xgb_short1\n",
    "        probas_xgb_baseline =  self.xgb_baseline.predict_proba(X[cols_baseline]) * self.peso_xgb_baseline\n",
    "        probas_catboost =  self.catboost.predict_proba(X[cols_catboost]) * self.peso_catboost\n",
    "        probas_lgbm =  self.lgbm.predict_proba(X[cols_lgbm]) * self.peso_lgbm\n",
    "\n",
    "        \n",
    "        preds = []\n",
    "        for i in range(len(X[cols_short1])):\n",
    "            proba_grado1 = probas_xgb_short1[i][0] + probas_xgb_baseline[i][0] \\\n",
    "                           + probas_catboost[i][0] + probas_lgbm[i][0]\n",
    "            proba_grado2 = probas_xgb_short1[i][1] + probas_xgb_baseline[i][1] \\\n",
    "                           + probas_catboost[i][1] + probas_lgbm[i][1]\n",
    "            proba_grado3 = probas_xgb_short1[i][2] + probas_xgb_baseline[i][2] \\\n",
    "                           + probas_catboost[i][2] + probas_lgbm[i][2]\n",
    "            \n",
    "            \n",
    "            max_proba = max([proba_grado1, proba_grado2, proba_grado3])\n",
    "            preds.append([proba_grado1, proba_grado2, proba_grado3].index(max_proba))\n",
    "        \n",
    " \n",
    "        return preds"
   ]
  },
  {
   "cell_type": "code",
   "execution_count": 17,
   "id": "1ab2e51d",
   "metadata": {},
   "outputs": [],
   "source": [
    "def funcion_a_optimizar(peso_baseline, peso_short1, peso_lgbm):\n",
    "\n",
    "            model = EncontradorPesos(peso_xgb_baseline=peso_baseline,\n",
    "                                     peso_xgb_short1=peso_short1, peso_catboost=1, peso_lgbm = peso_lgbm,\n",
    "                        categoricas_catboost=categoricas)\n",
    "\n",
    "            score = cross_val_score(model, train_values, train_labels_encoded, scoring='f1_micro', cv=8).mean()\n",
    "            print(\"Score: \" + str(score))\n",
    "            print(\"\\t Peso baseline: \" + str(peso_baseline))\n",
    "            print(\"\\t Peso short1: \" + str(peso_short1))\n",
    "            print(\"\\t Peso lgbm: \" + str(peso_lgbm))\n",
    "            print()\n",
    "            \n",
    "            return(score)"
   ]
  },
  {
   "cell_type": "code",
   "execution_count": 18,
   "id": "e2928197",
   "metadata": {},
   "outputs": [],
   "source": [
    "limites = {\"peso_baseline\":(4,5), \"peso_short1\":(3,4), \"peso_lgbm\":(1.5,2.5)}"
   ]
  },
  {
   "cell_type": "code",
   "execution_count": 19,
   "id": "c795f0ef",
   "metadata": {},
   "outputs": [],
   "source": [
    "optimizer = BayesianOptimization(\n",
    "    f=funcion_a_optimizar,\n",
    "    random_state=35320,\n",
    "    pbounds=limites,\n",
    ")\n",
    "\n",
    "\n",
    "logger = JSONLogger(path=\"./logs_ultima_carta1.json\")\n",
    "optimizer.subscribe(Events.OPTIMIZATION_STEP, logger)"
   ]
  },
  {
   "cell_type": "code",
   "execution_count": 20,
   "id": "f10a02e2",
   "metadata": {},
   "outputs": [],
   "source": [
    "optimizer.probe({'peso_baseline': 4.418722982360061,\n",
    "  'peso_lgbm': 1.847955192063759,\n",
    "  'peso_short1': 3.6931656858666138}, lazy=True)"
   ]
  },
  {
   "cell_type": "code",
   "execution_count": null,
   "id": "44d1bcbd",
   "metadata": {},
   "outputs": [],
   "source": [
    "optimizer.maximize(\n",
    "    init_points=10,\n",
    "    n_iter=3000,\n",
    ")"
   ]
  },
  {
   "cell_type": "code",
   "execution_count": 17,
   "id": "c3600b68",
   "metadata": {},
   "outputs": [
    {
     "data": {
      "text/plain": [
       "{'target': 0.7604600000000001,\n",
       " 'params': {'peso_baseline': 4.418722982360061,\n",
       "  'peso_lgbm': 1.847955192063759,\n",
       "  'peso_short1': 3.6931656858666138}}"
      ]
     },
     "execution_count": 17,
     "metadata": {},
     "output_type": "execute_result"
    }
   ],
   "source": [
    "optimizer.max"
   ]
  },
  {
   "cell_type": "code",
   "execution_count": 18,
   "id": "56fb1165",
   "metadata": {},
   "outputs": [],
   "source": [
    "def target(resultado):\n",
    "    return resultado['target']\n",
    "\n",
    "def mostrar(resultados, min=0):\n",
    "    \n",
    "    a_borrar = []\n",
    "    for resultado in resultados:\n",
    "        if(resultado['target']<min):\n",
    "            a_borrar.append(resultado)\n",
    "    resultados_importantes = [a for a in resultados if a not in a_borrar]\n",
    "    \n",
    "    resultados_importantes.sort(reverse=True, key=target)\n",
    "    \n",
    "    for resultado in resultados_importantes:\n",
    "        print(\"target: \" , resultado['target'])\n",
    "        for key,value in resultado['params'].items():\n",
    "            print(\"\\t\\t\", key, ':', value)\n",
    "        print()"
   ]
  },
  {
   "cell_type": "code",
   "execution_count": null,
   "id": "83487ffb",
   "metadata": {},
   "outputs": [],
   "source": [
    "mostrar(optimizer.res)"
   ]
  }
 ],
 "metadata": {
  "kernelspec": {
   "display_name": "Python 3",
   "language": "python",
   "name": "python3"
  },
  "language_info": {
   "codemirror_mode": {
    "name": "ipython",
    "version": 3
   },
   "file_extension": ".py",
   "mimetype": "text/x-python",
   "name": "python",
   "nbconvert_exporter": "python",
   "pygments_lexer": "ipython3",
   "version": "3.6.9"
  },
  "toc": {
   "base_numbering": 1,
   "nav_menu": {},
   "number_sections": false,
   "sideBar": true,
   "skip_h1_title": false,
   "title_cell": "Table of Contents",
   "title_sidebar": "Contents",
   "toc_cell": false,
   "toc_position": {},
   "toc_section_display": true,
   "toc_window_display": false
  }
 },
 "nbformat": 4,
 "nbformat_minor": 5
}
