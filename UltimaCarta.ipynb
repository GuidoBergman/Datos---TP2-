{
 "cells": [
  {
   "cell_type": "code",
   "execution_count": 250,
   "id": "f1b5cead",
   "metadata": {},
   "outputs": [],
   "source": [
    "import pandas as pd \n",
    "import catboost as cb \n",
    "from sklearn.model_selection import cross_val_score\n",
    "import numpy as np\n",
    "from sklearn.model_selection import GridSearchCV\n",
    "from lightgbm import LGBMClassifier\n",
    "from xgboost.sklearn import XGBClassifier\n",
    "import xgboost as xgb\n",
    "from sklearn.base import ClassifierMixin\n",
    "from sklearn.preprocessing import LabelEncoder\n",
    "from bayes_opt import BayesianOptimization\n",
    "from bayes_opt import SequentialDomainReductionTransformer\n",
    "from bayes_opt.logger import JSONLogger\n",
    "from bayes_opt.event import Events\n",
    "from bayes_opt.util import load_logs"
   ]
  },
  {
   "cell_type": "code",
   "execution_count": 221,
   "id": "950e9637",
   "metadata": {},
   "outputs": [],
   "source": [
    "import warnings\n",
    "warnings.filterwarnings('ignore')"
   ]
  },
  {
   "cell_type": "code",
   "execution_count": 207,
   "id": "b8fff163",
   "metadata": {},
   "outputs": [],
   "source": [
    "train_values = pd.read_csv('train_values.csv', index_col='building_id')\n",
    "train_values1 = pd.read_csv('train_values_short1.csv', index_col='building_id')\n",
    "train_values_baseline = pd.get_dummies(train_values)\n",
    "ambos_geos = train_values1.merge(train_values[[\"geo_level_1_id\", \"geo_level_2_id\", \"geo_level_3_id\"]],\n",
    "                                            left_index=True, right_index=True)\n",
    "train_values_catboost = pd.read_csv(\"train_values_catboost.csv\", index_col='building_id')\n",
    "train_values_lgbm = pd.read_csv(\"train_values_lightGBM.csv\", index_col='building_id')\n",
    "\n",
    "train_labels = pd.read_csv('train_labels.csv', index_col='building_id')\n",
    "le = LabelEncoder()\n",
    "train_labels_encoded = le.fit_transform(y=train_labels.values.ravel())"
   ]
  },
  {
   "cell_type": "code",
   "execution_count": 168,
   "id": "2a62e51b",
   "metadata": {},
   "outputs": [],
   "source": [
    "categoricas = []\n",
    "for col in train_values_catboost.columns:\n",
    "    if ((col != 'min_geo_id') & (col != 'max_geo_id')):\n",
    "        categoricas.append(col)\n",
    "        categoricas.append(train_values_catboost.columns.get_loc(col))\n",
    "        train_values_catboost[col] = train_values_catboost[col].astype(\"category\")"
   ]
  },
  {
   "cell_type": "code",
   "execution_count": 215,
   "id": "3f476a68",
   "metadata": {},
   "outputs": [],
   "source": [
    "class EncontradorPesos(ClassifierMixin):\n",
    "    def __init__(self, peso_xgb_baseline, peso_xgb_short1, peso_catboost, peso_lgbm, categoricas_catboost):\n",
    "        \n",
    "        self.peso_xgb_baseline = peso_xgb_baseline\n",
    "        self.xgb_baseline = xgb_baseline = XGBClassifier(random_state=2021, max_depth= 10, n_estimators= 273,\n",
    "                                                         verbosity=0, use_label_encoder=False)\n",
    "        \n",
    "        self.peso_xgb_short1 = peso_xgb_short1\n",
    "        self.xgb_short1=XGBClassifier( objective = \"multi:softmax\", use_label_encoder=False, seed=30,\n",
    "                         max_depth=9,\n",
    "                         min_child_weight=6,\n",
    "                         gamma=0.2554138025988315,\n",
    "                        colsample_bytree = 0.7773754946860542,\n",
    "                        subsample = 0.9030471581301206,\n",
    "                         learning_rate =0.1, \n",
    "                         n_estimators=273,\n",
    "                        verbosity=0\n",
    "                         )\n",
    "        \n",
    "        self.peso_catboost = peso_catboost\n",
    "        self.catboost = cb.CatBoostClassifier(loss_function='MultiClass', eval_metric='TotalF1:average=Micro', \n",
    "                                              iterations=100, verbose=False)\n",
    "        self.categoricas_catboost = categoricas_catboost\n",
    "        \n",
    "        self.lgbm = LGBMClassifier(random_state=2021, num_iterations= 273,\n",
    "                                   num_leaves= 70, objective= 'regression', colsample_bytree=0.77)\n",
    "        self.peso_lgbm = peso_lgbm\n",
    "    \n",
    "                 \n",
    "    def fit(self, X, y):\n",
    "        self.xgb_short1.fit(X[0], y)\n",
    "        self.xgb_baseline.fit(X[1], y)\n",
    "        self.catboost.fit(X[2], y, self.categoricas_catboost)\n",
    "        self.lgbm.fit(X[3],y)\n",
    "        \n",
    "    def predict(self, X):\n",
    "        probas_xgb_short1 =  self.xgb_short1.predict_proba(X[0]) * self.peso_xgb_short1\n",
    "        probas_xgb_baseline =  self.xgb_baseline.predict_proba(X[1]) * self.peso_xgb_baseline\n",
    "        probas_catboost =  self.catboost.predict_proba(X[2]) * self.peso_catboost\n",
    "        probas_lgbm =  self.lgbm.predict_proba(X[3]) * self.peso_lgbm\n",
    "\n",
    "        \n",
    "        preds = []\n",
    "        for i in range(len(X[0])):\n",
    "            proba_grado1 = probas_xgb_short1[i][0] + probas_xgb_baseline[i][0] \\\n",
    "                           + probas_catboost[i][0] + probas_lgbm[i][0]\n",
    "            proba_grado2 = probas_xgb_short1[i][1] + probas_xgb_baseline[i][1] \\\n",
    "                           + probas_catboost[i][1] + probas_lgbm[i][1]\n",
    "            proba_grado3 = probas_xgb_short1[i][2] + probas_xgb_baseline[i][2] \\\n",
    "                           + probas_catboost[i][2] + probas_lgbm[i][2]\n",
    "            \n",
    "            \n",
    "            max_proba = max([proba_grado1, proba_grado2, proba_grado3])\n",
    "            preds.append([proba_grado1, proba_grado2, proba_grado3].index(max_proba))\n",
    "        \n",
    " \n",
    "        return preds"
   ]
  },
  {
   "cell_type": "code",
   "execution_count": 232,
   "id": "0eb3bd82",
   "metadata": {},
   "outputs": [],
   "source": [
    "train_values = [ambos_geos.iloc[:100], train_values_baseline[:100], train_values_catboost[:100], \n",
    "           train_values_lgbm[:100]]\n",
    "train_labels = train_labels_encoded[:100]"
   ]
  },
  {
   "cell_type": "code",
   "execution_count": 229,
   "id": "c6ba330a",
   "metadata": {},
   "outputs": [],
   "source": [
    "test_values = [ambos_geos.iloc[:10], train_values_baseline[:10], train_values_catboost[:10],\n",
    "                       train_values_lgbm[:10]]\n",
    "test_labels = train_labels_encoded[:10]"
   ]
  },
  {
   "cell_type": "code",
   "execution_count": 248,
   "id": "1ab2e51d",
   "metadata": {},
   "outputs": [],
   "source": [
    "\n",
    "def funcion_a_optimizar(peso_baseline, peso_short1, peso_lgbm):\n",
    "\n",
    "            model = EncontradorPesos(peso_xgb_baseline=peso_baseline,\n",
    "                                     peso_xgb_short1=peso_short1, peso_catboost=1, peso_lgbm = peso_lgbm,\n",
    "                        categoricas_catboost=categoricas)\n",
    "\n",
    "            model.fit(train_values, train_labels)\n",
    "            preds = model.predict(test_values)\n",
    "            score = f1_score(preds, test_labels, average='micro')\n",
    "            print(\"Score: \" + str(score))\n",
    "            print(\"\\t Peso baseline: \" + str(peso_baseline))\n",
    "            print(\"\\t Peso short1: \" + str(peso_short1))\n",
    "            print(\"\\t Peso lgbm: \" + str(peso_lgbm))\n",
    "            print()\n",
    "            \n",
    "            return(score)"
   ]
  },
  {
   "cell_type": "code",
   "execution_count": 253,
   "id": "e2928197",
   "metadata": {},
   "outputs": [],
   "source": [
    "limites = {\"peso_baseline\":(4,6), \"peso_short1\":(3,5), \"peso_lgbm\":(0.8,2)}"
   ]
  },
  {
   "cell_type": "code",
   "execution_count": 254,
   "id": "c795f0ef",
   "metadata": {},
   "outputs": [],
   "source": [
    "optimizer = BayesianOptimization(\n",
    "    f=funcion_a_optimizar,\n",
    "    random_state=10,\n",
    "    pbounds=limites,\n",
    ")\n",
    "\n",
    "\n",
    "logger = JSONLogger(path=\"./logs_ultima_carta.json\")\n",
    "optimizer.subscribe(Events.OPTIMIZATION_STEP, logger)"
   ]
  },
  {
   "cell_type": "code",
   "execution_count": 255,
   "id": "44d1bcbd",
   "metadata": {},
   "outputs": [
    {
     "name": "stdout",
     "output_type": "stream",
     "text": [
      "Score: 1.0\n",
      "\t Peso baseline: 5.542641286533492\n",
      "\t Peso short1: 4.267296469852551\n",
      "\t Peso lgbm: 0.8249023392312819\n",
      "\n",
      "Score: 1.0\n",
      "\t Peso baseline: 5.497607765077223\n",
      "\t Peso short1: 3.4495932910616953\n",
      "\t Peso lgbm: 1.3982084147631086\n",
      "\n",
      "Score: 1.0\n",
      "\t Peso baseline: 4.019905151444054\n",
      "\t Peso short1: 4.906116435412473\n",
      "\t Peso lgbm: 1.9999662999261694\n",
      "\n",
      "Score: 1.0\n",
      "\t Peso baseline: 4.05168532283733\n",
      "\t Peso short1: 3.023672684186033\n",
      "\t Peso lgbm: 1.9905196468737527\n",
      "\n"
     ]
    }
   ],
   "source": [
    "optimizer.maximize(\n",
    "    init_points=2,\n",
    "    n_iter=2,\n",
    ")"
   ]
  },
  {
   "cell_type": "code",
   "execution_count": 257,
   "id": "c3600b68",
   "metadata": {},
   "outputs": [
    {
     "data": {
      "text/plain": [
       "{'target': 1.0,\n",
       " 'params': {'peso_baseline': 5.542641286533492,\n",
       "  'peso_lgbm': 0.8249023392312819,\n",
       "  'peso_short1': 4.267296469852551}}"
      ]
     },
     "execution_count": 257,
     "metadata": {},
     "output_type": "execute_result"
    }
   ],
   "source": [
    "optimizer.max"
   ]
  }
 ],
 "metadata": {
  "kernelspec": {
   "display_name": "Python 3",
   "language": "python",
   "name": "python3"
  },
  "language_info": {
   "codemirror_mode": {
    "name": "ipython",
    "version": 3
   },
   "file_extension": ".py",
   "mimetype": "text/x-python",
   "name": "python",
   "nbconvert_exporter": "python",
   "pygments_lexer": "ipython3",
   "version": "3.6.9"
  },
  "toc": {
   "base_numbering": 1,
   "nav_menu": {},
   "number_sections": false,
   "sideBar": true,
   "skip_h1_title": false,
   "title_cell": "Table of Contents",
   "title_sidebar": "Contents",
   "toc_cell": false,
   "toc_position": {},
   "toc_section_display": true,
   "toc_window_display": false
  }
 },
 "nbformat": 4,
 "nbformat_minor": 5
}
