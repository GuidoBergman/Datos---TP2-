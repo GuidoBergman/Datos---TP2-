{
 "cells": [
  {
   "cell_type": "code",
   "execution_count": null,
   "id": "76c01547",
   "metadata": {},
   "outputs": [],
   "source": [
    "! pip3 install bayesian_optimization\n",
    "! pip3 install xgboost"
   ]
  },
  {
   "cell_type": "code",
   "execution_count": 1,
   "id": "d74210f9",
   "metadata": {},
   "outputs": [],
   "source": [
    "from xgboost.sklearn import XGBClassifier\n",
    "import xgboost as xgb\n",
    "from sklearn.metrics import f1_score\n",
    "from sklearn.model_selection import cross_val_score\n",
    "from sklearn.preprocessing import LabelEncoder\n",
    "from bayes_opt import BayesianOptimization\n",
    "from bayes_opt import SequentialDomainReductionTransformer\n",
    "from bayes_opt.logger import JSONLogger\n",
    "from bayes_opt.event import Events\n",
    "from bayes_opt.util import load_logs\n",
    "import pandas as pd\n",
    "import numpy as np\n",
    "%matplotlib inline\n",
    "import matplotlib.pyplot as plt"
   ]
  },
  {
   "cell_type": "code",
   "execution_count": 2,
   "id": "dea254d4",
   "metadata": {},
   "outputs": [],
   "source": [
    "train_values = pd.read_csv('Archivos auxiliares KNN/train_values_short1.csv', index_col='building_id')\n",
    "train_labels = pd.read_csv('Archivos auxiliares KNN/train_labels.csv', index_col='building_id')"
   ]
  },
  {
   "cell_type": "code",
   "execution_count": 177,
   "id": "c3b1a09f",
   "metadata": {},
   "outputs": [],
   "source": [
    "def target(resultado):\n",
    "    return resultado['target']\n",
    "\n",
    "def mostrar(resultados, min=0):\n",
    "    \n",
    "    a_borrar = []\n",
    "    for resultado in resultados:\n",
    "        if(resultado['target']<min):\n",
    "            a_borrar.append(resultado)\n",
    "    resultados_importantes = [a for a in resultados if a not in a_borrar]\n",
    "    \n",
    "    resultados_importantes.sort(reverse=True, key=target)\n",
    "    \n",
    "    for resultado in resultados_importantes:\n",
    "        print(\"target: \" , resultado['target'])\n",
    "        for key,value in resultado['params'].items():\n",
    "            print(\"\\t\\t\", key, ':', value)\n",
    "        print()"
   ]
  },
  {
   "cell_type": "code",
   "execution_count": 178,
   "id": "ceb197fc",
   "metadata": {},
   "outputs": [],
   "source": [
    "def funcion_a_optimizar1(max_depth, min_child_weight):\n",
    "    x = train_values\n",
    "    le = LabelEncoder()\n",
    "    y = le.fit_transform(y=train_labels.values.ravel())\n",
    "    xgb = XGBClassifier( objective = \"multi:softmax\", use_label_encoder=False, seed=10,\n",
    "                         max_depth=round(max_depth),\n",
    "                         min_child_weight=min_child_weight,\n",
    "                         gamma=0,\n",
    "                         subsample=0.8,\n",
    "                         colsample_bytree=0.8,\n",
    "                         learning_rate =0.1, \n",
    "                         n_estimators=240, \n",
    "                         )\n",
    "                       \n",
    "    return cross_val_score(xgb, x, y, scoring='f1_micro', cv=10).mean()"
   ]
  },
  {
   "cell_type": "code",
   "execution_count": 179,
   "id": "be275d3f",
   "metadata": {},
   "outputs": [],
   "source": [
    "limites = {\"max_depth\":(3,11), \"min_child_weight\":(1,8) }"
   ]
  },
  {
   "cell_type": "code",
   "execution_count": 182,
   "id": "dad1d4fc",
   "metadata": {},
   "outputs": [],
   "source": [
    "optimizer = BayesianOptimization(\n",
    "    f=funcion_a_optimizar1,\n",
    "    random_state=9,\n",
    "    verbose=5,\n",
    "    pbounds=limites,\n",
    ")\n",
    "\n",
    "load_logs(optimizer, \"./anteriores.json\")\n",
    "logger = JSONLogger(path=\"./logs_nuevos.json\")\n",
    "optimizer.subscribe(Events.OPTIMIZATION_STEP, logger)"
   ]
  },
  {
   "cell_type": "code",
   "execution_count": 183,
   "id": "f00f9ac1",
   "metadata": {},
   "outputs": [
    {
     "name": "stdout",
     "output_type": "stream",
     "text": [
      "[20:25:59] WARNING: ../src/learner.cc:1095: Starting in XGBoost 1.3.0, the default evaluation metric used with the objective 'multi:softprob' was changed from 'merror' to 'mlogloss'. Explicitly set eval_metric if you'd like to restore the old behavior.\n",
      "[20:26:29] WARNING: ../src/learner.cc:1095: Starting in XGBoost 1.3.0, the default evaluation metric used with the objective 'multi:softprob' was changed from 'merror' to 'mlogloss'. Explicitly set eval_metric if you'd like to restore the old behavior.\n"
     ]
    }
   ],
   "source": [
    "optimizer.maximize(\n",
    "    init_points=5,\n",
    "    n_iter=40,\n",
    ")"
   ]
  },
  {
   "cell_type": "code",
   "execution_count": 184,
   "id": "305f0079",
   "metadata": {},
   "outputs": [
    {
     "name": "stdout",
     "output_type": "stream",
     "text": [
      "target:  0.7585197330134774\n",
      "\t\t max_depth : 8.399244502867223\n",
      "\t\t min_child_weight : 1.1037597467970075\n",
      "\n"
     ]
    }
   ],
   "source": [
    "mostrar(optimizer.res)"
   ]
  },
  {
   "cell_type": "code",
   "execution_count": 3,
   "id": "ba6c1843",
   "metadata": {},
   "outputs": [],
   "source": [
    " xgb = XGBClassifier( objective = \"multi:softmax\", use_label_encoder=False, seed=10,\n",
    "                         gamma=0,\n",
    "                         subsample=0.8,\n",
    "                         colsample_bytree=0.8,\n",
    "                         learning_rate =0.1, \n",
    "                         n_estimators=240, \n",
    "                        max_depth = 9,\n",
    "                        min_child_weight = 6.0,\n",
    "                        num_class=3, \n",
    "                        verbose=0\n",
    "                         )"
   ]
  },
  {
   "cell_type": "code",
   "execution_count": 3,
   "id": "b1fd6314",
   "metadata": {},
   "outputs": [],
   "source": [
    "    le = LabelEncoder()\n",
    "    y = le.fit_transform(y=train_labels.values.ravel())"
   ]
  },
  {
   "cell_type": "code",
   "execution_count": 6,
   "id": "636e52bf",
   "metadata": {},
   "outputs": [
    {
     "name": "stdout",
     "output_type": "stream",
     "text": [
      "[10:39:24] WARNING: ../src/learner.cc:573: \n",
      "Parameters: { \"verbose\" } might not be used.\n",
      "\n",
      "  This may not be accurate due to some parameters are only used in language bindings but\n",
      "  passed down to XGBoost core.  Or some parameters are not used but slip through this\n",
      "  verification. Please open an issue if you find above cases.\n",
      "\n",
      "\n",
      "[10:39:25] WARNING: ../src/learner.cc:1095: Starting in XGBoost 1.3.0, the default evaluation metric used with the objective 'multi:softprob' was changed from 'merror' to 'mlogloss'. Explicitly set eval_metric if you'd like to restore the old behavior.\n"
     ]
    },
    {
     "data": {
      "text/plain": [
       "XGBClassifier(base_score=0.5, booster='gbtree', colsample_bylevel=1,\n",
       "              colsample_bynode=1, colsample_bytree=0.8, gamma=0, gpu_id=-1,\n",
       "              importance_type='gain', interaction_constraints='',\n",
       "              learning_rate=0.1, max_delta_step=0, max_depth=9,\n",
       "              min_child_weight=6.0, missing=nan, monotone_constraints='()',\n",
       "              n_estimators=240, n_jobs=4, num_class=3, num_parallel_tree=1,\n",
       "              objective='multi:softprob', random_state=10, reg_alpha=0,\n",
       "              reg_lambda=1, scale_pos_weight=None, seed=10, subsample=0.8,\n",
       "              tree_method='exact', use_label_encoder=False,\n",
       "              validate_parameters=1, verbose=0, ...)"
      ]
     },
     "execution_count": 6,
     "metadata": {},
     "output_type": "execute_result"
    }
   ],
   "source": [
    "xgb.fit(train_values, y)"
   ]
  },
  {
   "cell_type": "code",
   "execution_count": 8,
   "id": "c5c3a934",
   "metadata": {},
   "outputs": [],
   "source": [
    "test = pd.read_csv(\"Archivos auxiliares KNN/test_values_short1.csv\", index_col='building_id')"
   ]
  },
  {
   "cell_type": "code",
   "execution_count": 9,
   "id": "7a4d7fd3",
   "metadata": {},
   "outputs": [],
   "source": [
    "preds = xgb.predict(test)\n",
    "submission_format = pd.read_csv('submission_format.csv', index_col='building_id')\n",
    "my_submission = pd.DataFrame(data=preds,\n",
    "                             columns=submission_format.columns,\n",
    "                             index=submission_format.index)\n",
    "my_submission.to_csv('submissionxg.csv')"
   ]
  },
  {
   "cell_type": "code",
   "execution_count": 8,
   "id": "4b30f58f",
   "metadata": {},
   "outputs": [],
   "source": [
    "# Soy un gil, me olvide de encodear devuelta jejejeje\n",
    "submission_horrible = pd.read_csv('submissionxg.csv', index_col='building_id')"
   ]
  },
  {
   "cell_type": "code",
   "execution_count": 9,
   "id": "737d9267",
   "metadata": {},
   "outputs": [],
   "source": [
    "submission_mejorada = submission_horrible + 1"
   ]
  },
  {
   "cell_type": "code",
   "execution_count": 12,
   "id": "51b61fff",
   "metadata": {},
   "outputs": [],
   "source": [
    "submission_mejorada.to_csv('subs/xgboost_short1_001.csv', index=True)"
   ]
  }
 ],
 "metadata": {
  "kernelspec": {
   "display_name": "Python 3",
   "language": "python",
   "name": "python3"
  },
  "language_info": {
   "codemirror_mode": {
    "name": "ipython",
    "version": 3
   },
   "file_extension": ".py",
   "mimetype": "text/x-python",
   "name": "python",
   "nbconvert_exporter": "python",
   "pygments_lexer": "ipython3",
   "version": "3.6.9"
  },
  "toc": {
   "base_numbering": 1,
   "nav_menu": {},
   "number_sections": false,
   "sideBar": true,
   "skip_h1_title": false,
   "title_cell": "Table of Contents",
   "title_sidebar": "Contents",
   "toc_cell": false,
   "toc_position": {},
   "toc_section_display": true,
   "toc_window_display": false
  }
 },
 "nbformat": 4,
 "nbformat_minor": 5
}
