{
 "cells": [
  {
   "cell_type": "code",
   "execution_count": 25,
   "id": "e6aec383",
   "metadata": {},
   "outputs": [],
   "source": [
    "from xgboost.sklearn import XGBClassifier\n",
    "import xgboost as xgb\n",
    "from sklearn.preprocessing import LabelEncoder\n",
    "import pandas as pd\n",
    "import numpy as np"
   ]
  },
  {
   "cell_type": "code",
   "execution_count": 26,
   "id": "ff45a529",
   "metadata": {},
   "outputs": [],
   "source": [
    "train_values = pd.read_csv('train_values.csv', index_col='building_id')\n",
    "train_values1 = pd.read_csv('train_values_short1.csv', index_col='building_id')\n",
    "train_labels = pd.read_csv('train_labels.csv', index_col='building_id')\n",
    "train_values_baseline = pd.get_dummies(train_values)\n",
    "ambos_geos = train_values1.merge(train_values[[\"geo_level_1_id\", \"geo_level_2_id\", \"geo_level_3_id\"]],\n",
    "                                            left_index=True, right_index=True)"
   ]
  },
  {
   "cell_type": "code",
   "execution_count": null,
   "id": "769f49d6",
   "metadata": {},
   "outputs": [],
   "source": [
    "test  = pd.read_csv('test_values.csv', index_col='building_id')\n",
    "test_baseline = pd.get_dummies(test)\n",
    "test1 = pd.read_csv(\"Archivos auxiliares KNN/test_values_short1.csv\", index_col='building_id')\n",
    "ambos_geos_t = test1.merge(test[[\"geo_level_1_id\", \"geo_level_2_id\", \"geo_level_3_id\"]],\n",
    "                                            left_index=True, right_index=True)"
   ]
  },
  {
   "cell_type": "code",
   "execution_count": null,
   "id": "b177640a",
   "metadata": {},
   "outputs": [],
   "source": [
    "    xgb_short1 = XGBClassifier( objective = \"multi:softmax\", use_label_encoder=False, seed=30,\n",
    "                         max_depth=9,\n",
    "                         min_child_weight=6,\n",
    "                         gamma=0.2554138025988315,\n",
    "                        colsample_bytree = 0.7773754946860542,\n",
    "                        subsample = 0.9030471581301206,\n",
    "                         learning_rate =0.1, \n",
    "                         n_estimators=273, \n",
    "                         )    "
   ]
  },
  {
   "cell_type": "code",
   "execution_count": 30,
   "id": "cb8667a3",
   "metadata": {},
   "outputs": [],
   "source": [
    "xgb_baseline = XGBClassifier(random_state=2021, max_depth= 10, n_estimators= 273, verbosity=0)"
   ]
  },
  {
   "cell_type": "code",
   "execution_count": 31,
   "id": "024c59e4",
   "metadata": {},
   "outputs": [],
   "source": [
    "    le = LabelEncoder()\n",
    "    y = le.fit_transform(y=train_labels.values.ravel())\n"
   ]
  },
  {
   "cell_type": "code",
   "execution_count": 32,
   "id": "85a0f9d6",
   "metadata": {},
   "outputs": [
    {
     "name": "stderr",
     "output_type": "stream",
     "text": [
      "/home/guido/.local/lib/python3.6/site-packages/xgboost/sklearn.py:1146: UserWarning: The use of label encoder in XGBClassifier is deprecated and will be removed in a future release. To remove this warning, do the following: 1) Pass option use_label_encoder=False when constructing XGBClassifier object; and 2) Encode your labels (y) as integers starting with 0, i.e. 0, 1, 2, ..., [num_class - 1].\n",
      "  warnings.warn(label_encoder_deprecation_msg, UserWarning)\n"
     ]
    },
    {
     "data": {
      "text/plain": [
       "XGBClassifier(base_score=0.5, booster='gbtree', colsample_bylevel=1,\n",
       "              colsample_bynode=1, colsample_bytree=1, gamma=0, gpu_id=-1,\n",
       "              importance_type='gain', interaction_constraints='',\n",
       "              learning_rate=0.300000012, max_delta_step=0, max_depth=10,\n",
       "              min_child_weight=1, missing=nan, monotone_constraints='()',\n",
       "              n_estimators=273, n_jobs=4, num_parallel_tree=1,\n",
       "              objective='multi:softprob', random_state=2021, reg_alpha=0,\n",
       "              reg_lambda=1, scale_pos_weight=None, subsample=1,\n",
       "              tree_method='exact', validate_parameters=1, verbosity=0)"
      ]
     },
     "execution_count": 32,
     "metadata": {},
     "output_type": "execute_result"
    }
   ],
   "source": [
    "xgb_baseline.fit(train_values_baseline, y)"
   ]
  },
  {
   "cell_type": "code",
   "execution_count": 37,
   "id": "b94a5f6e",
   "metadata": {},
   "outputs": [],
   "source": [
    "preds = xgb_baseline.predict(test_baseline)\n",
    "submission_format = pd.read_csv('submission_format.csv', index_col='building_id')\n",
    "submission_horrible = pd.DataFrame(data=preds,\n",
    "                             columns=submission_format.columns,\n",
    "                             index=test.index)"
   ]
  },
  {
   "cell_type": "code",
   "execution_count": 38,
   "id": "6613646f",
   "metadata": {},
   "outputs": [],
   "source": [
    "submission_mejorada = submission_horrible+1"
   ]
  },
  {
   "cell_type": "code",
   "execution_count": 39,
   "id": "0a95df93",
   "metadata": {},
   "outputs": [
    {
     "data": {
      "text/html": [
       "<div>\n",
       "<style scoped>\n",
       "    .dataframe tbody tr th:only-of-type {\n",
       "        vertical-align: middle;\n",
       "    }\n",
       "\n",
       "    .dataframe tbody tr th {\n",
       "        vertical-align: top;\n",
       "    }\n",
       "\n",
       "    .dataframe thead th {\n",
       "        text-align: right;\n",
       "    }\n",
       "</style>\n",
       "<table border=\"1\" class=\"dataframe\">\n",
       "  <thead>\n",
       "    <tr style=\"text-align: right;\">\n",
       "      <th></th>\n",
       "      <th>damage_grade</th>\n",
       "    </tr>\n",
       "    <tr>\n",
       "      <th>building_id</th>\n",
       "      <th></th>\n",
       "    </tr>\n",
       "  </thead>\n",
       "  <tbody>\n",
       "    <tr>\n",
       "      <th>300051</th>\n",
       "      <td>3</td>\n",
       "    </tr>\n",
       "    <tr>\n",
       "      <th>99355</th>\n",
       "      <td>2</td>\n",
       "    </tr>\n",
       "    <tr>\n",
       "      <th>890251</th>\n",
       "      <td>2</td>\n",
       "    </tr>\n",
       "    <tr>\n",
       "      <th>745817</th>\n",
       "      <td>1</td>\n",
       "    </tr>\n",
       "    <tr>\n",
       "      <th>421793</th>\n",
       "      <td>3</td>\n",
       "    </tr>\n",
       "  </tbody>\n",
       "</table>\n",
       "</div>"
      ],
      "text/plain": [
       "             damage_grade\n",
       "building_id              \n",
       "300051                  3\n",
       "99355                   2\n",
       "890251                  2\n",
       "745817                  1\n",
       "421793                  3"
      ]
     },
     "execution_count": 39,
     "metadata": {},
     "output_type": "execute_result"
    }
   ],
   "source": [
    "submission_mejorada.head()"
   ]
  },
  {
   "cell_type": "code",
   "execution_count": 40,
   "id": "f0c22b01",
   "metadata": {},
   "outputs": [],
   "source": [
    "submission_mejorada.to_csv('subs/xgboost_baseline_n_estimators273.csv', index=True)"
   ]
  },
  {
   "cell_type": "code",
   "execution_count": 42,
   "id": "2f0494fc",
   "metadata": {},
   "outputs": [],
   "source": [
    "probas = xgb_baseline.predict_proba(test_baseline)"
   ]
  },
  {
   "cell_type": "code",
   "execution_count": 43,
   "id": "79155154",
   "metadata": {},
   "outputs": [],
   "source": [
    "ids = test.index"
   ]
  },
  {
   "cell_type": "code",
   "execution_count": 45,
   "id": "139725c8",
   "metadata": {},
   "outputs": [],
   "source": [
    "df_probas = pd.DataFrame(data=probas,\n",
    "                             columns=[1,2,3],\n",
    "                             index=ids)"
   ]
  },
  {
   "cell_type": "code",
   "execution_count": 46,
   "id": "3fee425b",
   "metadata": {},
   "outputs": [],
   "source": [
    "df_probas.to_csv('predict_probas/xgboost_baseline.csv', index=True)"
   ]
  }
 ],
 "metadata": {
  "kernelspec": {
   "display_name": "Python 3",
   "language": "python",
   "name": "python3"
  },
  "language_info": {
   "codemirror_mode": {
    "name": "ipython",
    "version": 3
   },
   "file_extension": ".py",
   "mimetype": "text/x-python",
   "name": "python",
   "nbconvert_exporter": "python",
   "pygments_lexer": "ipython3",
   "version": "3.6.9"
  },
  "toc": {
   "base_numbering": 1,
   "nav_menu": {},
   "number_sections": false,
   "sideBar": true,
   "skip_h1_title": false,
   "title_cell": "Table of Contents",
   "title_sidebar": "Contents",
   "toc_cell": false,
   "toc_position": {},
   "toc_section_display": true,
   "toc_window_display": false
  }
 },
 "nbformat": 4,
 "nbformat_minor": 5
}
