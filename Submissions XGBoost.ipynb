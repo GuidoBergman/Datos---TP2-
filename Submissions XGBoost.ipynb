{
 "cells": [
  {
   "cell_type": "code",
   "execution_count": null,
   "id": "e6aec383",
   "metadata": {},
   "outputs": [],
   "source": [
    "! pip3 install xgboost\n",
    "from xgboost.sklearn import XGBClassifier\n",
    "import xgboost as xgb\n",
    "from sklearn.preprocessing import LabelEncoder\n",
    "import pandas as pd\n",
    "import numpy as np"
   ]
  },
  {
   "cell_type": "code",
   "execution_count": null,
   "id": "024c59e4",
   "metadata": {},
   "outputs": [],
   "source": [
    " xgb = XGBClassifier( objective = \"multi:softmax\", use_label_encoder=False, seed=10,\n",
    "                         gamma=0,\n",
    "                         subsample=0.8,\n",
    "                         colsample_bytree=0.8,\n",
    "                         learning_rate =0.1, \n",
    "                         n_estimators=240, \n",
    "                        max_depth = 9,\n",
    "                        min_child_weight = 6.0,\n",
    "                        num_class=3, \n",
    "                        verbose=0\n",
    "                         )"
   ]
  },
  {
   "cell_type": "code",
   "execution_count": null,
   "id": "8a908c70",
   "metadata": {},
   "outputs": [],
   "source": [
    "    le = LabelEncoder()\n",
    "    y = le.fit_transform(y=train_labels.values.ravel())"
   ]
  },
  {
   "cell_type": "code",
   "execution_count": null,
   "id": "85a0f9d6",
   "metadata": {},
   "outputs": [],
   "source": [
    "xgb.fit(train_values, y)"
   ]
  },
  {
   "cell_type": "code",
   "execution_count": null,
   "id": "4f9f0d05",
   "metadata": {},
   "outputs": [],
   "source": [
    "test = pd.read_csv(\"Archivos auxiliares KNN/test_values_short1.csv\", index_col='building_id')"
   ]
  },
  {
   "cell_type": "code",
   "execution_count": null,
   "id": "b94a5f6e",
   "metadata": {},
   "outputs": [],
   "source": [
    "preds = xgb.predict(test)\n",
    "submission_format = pd.read_csv('submission_format.csv', index_col='building_id')\n",
    "submission_horrible = pd.DataFrame(data=preds,\n",
    "                             columns=submission_format.columns,\n",
    "                             index=submission_format.index)\n",
    "\n",
    "submission_mejorada = submission_horrible + 1\n",
    "submission_mejorada.to_csv('xgboost_knn_sin_outliers.csv', index=True)"
   ]
  }
 ],
 "metadata": {
  "kernelspec": {
   "display_name": "Python 3",
   "language": "python",
   "name": "python3"
  },
  "language_info": {
   "codemirror_mode": {
    "name": "ipython",
    "version": 3
   },
   "file_extension": ".py",
   "mimetype": "text/x-python",
   "name": "python",
   "nbconvert_exporter": "python",
   "pygments_lexer": "ipython3",
   "version": "3.6.9"
  },
  "toc": {
   "base_numbering": 1,
   "nav_menu": {},
   "number_sections": false,
   "sideBar": true,
   "skip_h1_title": false,
   "title_cell": "Table of Contents",
   "title_sidebar": "Contents",
   "toc_cell": false,
   "toc_position": {},
   "toc_section_display": true,
   "toc_window_display": false
  }
 },
 "nbformat": 4,
 "nbformat_minor": 5
}
