{
 "cells": [
  {
   "cell_type": "code",
   "execution_count": 1,
   "id": "e6aec383",
   "metadata": {},
   "outputs": [],
   "source": [
    "from xgboost.sklearn import XGBClassifier\n",
    "import xgboost as xgb\n",
    "from sklearn.preprocessing import LabelEncoder\n",
    "import pandas as pd\n",
    "import numpy as np"
   ]
  },
  {
   "cell_type": "code",
   "execution_count": 4,
   "id": "ff45a529",
   "metadata": {},
   "outputs": [],
   "source": [
    "train_values = pd.read_csv('train_values_short1.csv', index_col='building_id')\n",
    "train_labels = pd.read_csv('train_labels.csv', index_col='building_id')"
   ]
  },
  {
   "cell_type": "code",
   "execution_count": 7,
   "id": "024c59e4",
   "metadata": {},
   "outputs": [],
   "source": [
    "  xgb = XGBClassifier( objective = \"multi:softmax\", use_label_encoder=False, seed=30,\n",
    "                         max_depth=9,\n",
    "                         min_child_weight=6,\n",
    "                         gamma=0.2554138025988315,\n",
    "                         subsample=0.8,\n",
    "                         colsample_bytree=0.8,\n",
    "                         learning_rate =0.1, \n",
    "                         n_estimators=240, \n",
    "                         )\n",
    "                       "
   ]
  },
  {
   "cell_type": "code",
   "execution_count": 8,
   "id": "8a908c70",
   "metadata": {},
   "outputs": [],
   "source": [
    "    le = LabelEncoder()\n",
    "    y = le.fit_transform(y=train_labels.values.ravel())"
   ]
  },
  {
   "cell_type": "code",
   "execution_count": 9,
   "id": "85a0f9d6",
   "metadata": {},
   "outputs": [
    {
     "name": "stdout",
     "output_type": "stream",
     "text": [
      "[20:57:57] WARNING: ../src/learner.cc:1095: Starting in XGBoost 1.3.0, the default evaluation metric used with the objective 'multi:softprob' was changed from 'merror' to 'mlogloss'. Explicitly set eval_metric if you'd like to restore the old behavior.\n"
     ]
    },
    {
     "data": {
      "text/plain": [
       "XGBClassifier(base_score=0.5, booster='gbtree', colsample_bylevel=1,\n",
       "              colsample_bynode=1, colsample_bytree=0.8,\n",
       "              gamma=0.2554138025988315, gpu_id=-1, importance_type='gain',\n",
       "              interaction_constraints='', learning_rate=0.1, max_delta_step=0,\n",
       "              max_depth=9, min_child_weight=6, missing=nan,\n",
       "              monotone_constraints='()', n_estimators=240, n_jobs=4,\n",
       "              num_parallel_tree=1, objective='multi:softprob', random_state=30,\n",
       "              reg_alpha=0, reg_lambda=1, scale_pos_weight=None, seed=30,\n",
       "              subsample=0.8, tree_method='exact', use_label_encoder=False,\n",
       "              validate_parameters=1, verbosity=None)"
      ]
     },
     "execution_count": 9,
     "metadata": {},
     "output_type": "execute_result"
    }
   ],
   "source": [
    "xgb.fit(train_values, y)"
   ]
  },
  {
   "cell_type": "code",
   "execution_count": 10,
   "id": "4f9f0d05",
   "metadata": {},
   "outputs": [],
   "source": [
    "test = pd.read_csv(\"Archivos auxiliares KNN/test_values_short1.csv\", index_col='building_id')"
   ]
  },
  {
   "cell_type": "code",
   "execution_count": 11,
   "id": "b94a5f6e",
   "metadata": {},
   "outputs": [],
   "source": [
    "preds = xgb.predict(test)\n",
    "submission_format = pd.read_csv('submission_format.csv', index_col='building_id')\n",
    "submission_horrible = pd.DataFrame(data=preds,\n",
    "                             columns=submission_format.columns,\n",
    "                             index=submission_format.index)\n",
    "\n",
    "submission_mejorada = submission_horrible + 1"
   ]
  },
  {
   "cell_type": "code",
   "execution_count": 12,
   "id": "0a95df93",
   "metadata": {},
   "outputs": [
    {
     "data": {
      "text/html": [
       "<div>\n",
       "<style scoped>\n",
       "    .dataframe tbody tr th:only-of-type {\n",
       "        vertical-align: middle;\n",
       "    }\n",
       "\n",
       "    .dataframe tbody tr th {\n",
       "        vertical-align: top;\n",
       "    }\n",
       "\n",
       "    .dataframe thead th {\n",
       "        text-align: right;\n",
       "    }\n",
       "</style>\n",
       "<table border=\"1\" class=\"dataframe\">\n",
       "  <thead>\n",
       "    <tr style=\"text-align: right;\">\n",
       "      <th></th>\n",
       "      <th>damage_grade</th>\n",
       "    </tr>\n",
       "    <tr>\n",
       "      <th>building_id</th>\n",
       "      <th></th>\n",
       "    </tr>\n",
       "  </thead>\n",
       "  <tbody>\n",
       "    <tr>\n",
       "      <th>300051</th>\n",
       "      <td>3</td>\n",
       "    </tr>\n",
       "    <tr>\n",
       "      <th>99355</th>\n",
       "      <td>2</td>\n",
       "    </tr>\n",
       "    <tr>\n",
       "      <th>890251</th>\n",
       "      <td>3</td>\n",
       "    </tr>\n",
       "    <tr>\n",
       "      <th>745817</th>\n",
       "      <td>1</td>\n",
       "    </tr>\n",
       "    <tr>\n",
       "      <th>421793</th>\n",
       "      <td>3</td>\n",
       "    </tr>\n",
       "  </tbody>\n",
       "</table>\n",
       "</div>"
      ],
      "text/plain": [
       "             damage_grade\n",
       "building_id              \n",
       "300051                  3\n",
       "99355                   2\n",
       "890251                  3\n",
       "745817                  1\n",
       "421793                  3"
      ]
     },
     "execution_count": 12,
     "metadata": {},
     "output_type": "execute_result"
    }
   ],
   "source": [
    "submission_mejorada.head()"
   ]
  },
  {
   "cell_type": "code",
   "execution_count": 15,
   "id": "f0c22b01",
   "metadata": {},
   "outputs": [],
   "source": [
    "submission_mejorada.to_csv('subs/xgboost_short1_002.csv', index=True)"
   ]
  },
  {
   "cell_type": "code",
   "execution_count": 17,
   "id": "2f0494fc",
   "metadata": {},
   "outputs": [],
   "source": [
    "probas = xgb.predict_proba(test)"
   ]
  },
  {
   "cell_type": "code",
   "execution_count": 20,
   "id": "79155154",
   "metadata": {},
   "outputs": [],
   "source": [
    "ids = test.index"
   ]
  },
  {
   "cell_type": "code",
   "execution_count": 21,
   "id": "139725c8",
   "metadata": {},
   "outputs": [],
   "source": [
    "df_probas = pd.DataFrame(data=probas,\n",
    "                             columns=[1,2,3],\n",
    "                             index=ids`)"
   ]
  },
  {
   "cell_type": "code",
   "execution_count": 24,
   "id": "3fee425b",
   "metadata": {},
   "outputs": [],
   "source": [
    "df_probas.to_csv('predict_probas/xgboost_short1_001.csv', index=True)"
   ]
  }
 ],
 "metadata": {
  "kernelspec": {
   "display_name": "Python 3",
   "language": "python",
   "name": "python3"
  },
  "language_info": {
   "codemirror_mode": {
    "name": "ipython",
    "version": 3
   },
   "file_extension": ".py",
   "mimetype": "text/x-python",
   "name": "python",
   "nbconvert_exporter": "python",
   "pygments_lexer": "ipython3",
   "version": "3.6.9"
  },
  "toc": {
   "base_numbering": 1,
   "nav_menu": {},
   "number_sections": false,
   "sideBar": true,
   "skip_h1_title": false,
   "title_cell": "Table of Contents",
   "title_sidebar": "Contents",
   "toc_cell": false,
   "toc_position": {},
   "toc_section_display": true,
   "toc_window_display": false
  }
 },
 "nbformat": 4,
 "nbformat_minor": 5
}
